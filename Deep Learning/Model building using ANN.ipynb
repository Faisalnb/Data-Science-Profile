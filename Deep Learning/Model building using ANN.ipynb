{
 "cells": [
  {
   "cell_type": "code",
   "execution_count": 1,
   "id": "bf7cd012",
   "metadata": {
    "execution": {
     "iopub.execute_input": "2022-04-29T05:35:45.125541Z",
     "iopub.status.busy": "2022-04-29T05:35:45.124882Z",
     "iopub.status.idle": "2022-04-29T05:35:46.045157Z",
     "shell.execute_reply": "2022-04-29T05:35:46.044456Z"
    },
    "papermill": {
     "duration": 0.943464,
     "end_time": "2022-04-29T05:35:46.047458",
     "exception": false,
     "start_time": "2022-04-29T05:35:45.103994",
     "status": "completed"
    },
    "tags": []
   },
   "outputs": [],
   "source": [
    "import numpy as np\n",
    "import pandas as pd\n",
    "from sklearn import metrics\n",
    "import matplotlib.pyplot as plt\n",
    "%matplotlib inline"
   ]
  },
  {
   "cell_type": "code",
   "execution_count": 2,
   "id": "c396eec0",
   "metadata": {
    "execution": {
     "iopub.execute_input": "2022-04-29T05:35:46.084999Z",
     "iopub.status.busy": "2022-04-29T05:35:46.084796Z",
     "iopub.status.idle": "2022-04-29T05:35:50.878754Z",
     "shell.execute_reply": "2022-04-29T05:35:50.877936Z"
    },
    "papermill": {
     "duration": 4.814947,
     "end_time": "2022-04-29T05:35:50.881016",
     "exception": false,
     "start_time": "2022-04-29T05:35:46.066069",
     "status": "completed"
    },
    "tags": []
   },
   "outputs": [],
   "source": [
    "from tensorflow.keras import Sequential\n",
    "from tensorflow.keras.layers import Dense"
   ]
  },
  {
   "cell_type": "code",
   "execution_count": 3,
   "id": "cf1bc25b",
   "metadata": {
    "execution": {
     "iopub.execute_input": "2022-04-29T05:35:50.918305Z",
     "iopub.status.busy": "2022-04-29T05:35:50.918062Z",
     "iopub.status.idle": "2022-04-29T05:35:50.992849Z",
     "shell.execute_reply": "2022-04-29T05:35:50.992162Z"
    },
    "papermill": {
     "duration": 0.095754,
     "end_time": "2022-04-29T05:35:50.995034",
     "exception": false,
     "start_time": "2022-04-29T05:35:50.899280",
     "status": "completed"
    },
    "tags": []
   },
   "outputs": [
    {
     "data": {
      "text/html": [
       "<div>\n",
       "<style scoped>\n",
       "    .dataframe tbody tr th:only-of-type {\n",
       "        vertical-align: middle;\n",
       "    }\n",
       "\n",
       "    .dataframe tbody tr th {\n",
       "        vertical-align: top;\n",
       "    }\n",
       "\n",
       "    .dataframe thead th {\n",
       "        text-align: right;\n",
       "    }\n",
       "</style>\n",
       "<table border=\"1\" class=\"dataframe\">\n",
       "  <thead>\n",
       "    <tr style=\"text-align: right;\">\n",
       "      <th></th>\n",
       "      <th>Unnamed: 0</th>\n",
       "      <th>int.rate</th>\n",
       "      <th>installment</th>\n",
       "      <th>log.annual.inc</th>\n",
       "      <th>dti</th>\n",
       "      <th>fico</th>\n",
       "      <th>days.with.cr.line</th>\n",
       "      <th>revol.bal</th>\n",
       "      <th>revol.util</th>\n",
       "      <th>credit.policy</th>\n",
       "      <th>purpose</th>\n",
       "      <th>inq.last.6mths</th>\n",
       "      <th>delinq.2yrs</th>\n",
       "      <th>pub.rec</th>\n",
       "      <th>not.fully.paid</th>\n",
       "    </tr>\n",
       "  </thead>\n",
       "  <tbody>\n",
       "    <tr>\n",
       "      <th>0</th>\n",
       "      <td>0</td>\n",
       "      <td>0.102583</td>\n",
       "      <td>20.605475</td>\n",
       "      <td>11.273506</td>\n",
       "      <td>12.467226</td>\n",
       "      <td>0.319379</td>\n",
       "      <td>61.883201</td>\n",
       "      <td>42.578007</td>\n",
       "      <td>20.448191</td>\n",
       "      <td>1</td>\n",
       "      <td>2</td>\n",
       "      <td>0</td>\n",
       "      <td>0</td>\n",
       "      <td>0</td>\n",
       "      <td>0</td>\n",
       "    </tr>\n",
       "    <tr>\n",
       "      <th>1</th>\n",
       "      <td>1</td>\n",
       "      <td>0.093692</td>\n",
       "      <td>13.145587</td>\n",
       "      <td>11.007861</td>\n",
       "      <td>9.637935</td>\n",
       "      <td>0.319379</td>\n",
       "      <td>47.004650</td>\n",
       "      <td>44.276121</td>\n",
       "      <td>26.926535</td>\n",
       "      <td>1</td>\n",
       "      <td>1</td>\n",
       "      <td>0</td>\n",
       "      <td>0</td>\n",
       "      <td>0</td>\n",
       "      <td>0</td>\n",
       "    </tr>\n",
       "    <tr>\n",
       "      <th>2</th>\n",
       "      <td>2</td>\n",
       "      <td>0.114823</td>\n",
       "      <td>15.572202</td>\n",
       "      <td>10.306015</td>\n",
       "      <td>8.110935</td>\n",
       "      <td>0.319379</td>\n",
       "      <td>57.756847</td>\n",
       "      <td>24.420102</td>\n",
       "      <td>12.225867</td>\n",
       "      <td>1</td>\n",
       "      <td>2</td>\n",
       "      <td>1</td>\n",
       "      <td>0</td>\n",
       "      <td>0</td>\n",
       "      <td>0</td>\n",
       "    </tr>\n",
       "    <tr>\n",
       "      <th>3</th>\n",
       "      <td>3</td>\n",
       "      <td>0.088841</td>\n",
       "      <td>11.599771</td>\n",
       "      <td>11.273506</td>\n",
       "      <td>5.973022</td>\n",
       "      <td>0.319379</td>\n",
       "      <td>46.605702</td>\n",
       "      <td>44.290901</td>\n",
       "      <td>26.050039</td>\n",
       "      <td>1</td>\n",
       "      <td>2</td>\n",
       "      <td>1</td>\n",
       "      <td>0</td>\n",
       "      <td>0</td>\n",
       "      <td>0</td>\n",
       "    </tr>\n",
       "    <tr>\n",
       "      <th>4</th>\n",
       "      <td>4</td>\n",
       "      <td>0.119713</td>\n",
       "      <td>9.758462</td>\n",
       "      <td>11.223328</td>\n",
       "      <td>10.018973</td>\n",
       "      <td>0.319379</td>\n",
       "      <td>54.585999</td>\n",
       "      <td>26.496515</td>\n",
       "      <td>16.759817</td>\n",
       "      <td>1</td>\n",
       "      <td>1</td>\n",
       "      <td>0</td>\n",
       "      <td>1</td>\n",
       "      <td>0</td>\n",
       "      <td>0</td>\n",
       "    </tr>\n",
       "    <tr>\n",
       "      <th>...</th>\n",
       "      <td>...</td>\n",
       "      <td>...</td>\n",
       "      <td>...</td>\n",
       "      <td>...</td>\n",
       "      <td>...</td>\n",
       "      <td>...</td>\n",
       "      <td>...</td>\n",
       "      <td>...</td>\n",
       "      <td>...</td>\n",
       "      <td>...</td>\n",
       "      <td>...</td>\n",
       "      <td>...</td>\n",
       "      <td>...</td>\n",
       "      <td>...</td>\n",
       "      <td>...</td>\n",
       "    </tr>\n",
       "    <tr>\n",
       "      <th>9573</th>\n",
       "      <td>9573</td>\n",
       "      <td>0.122163</td>\n",
       "      <td>15.235219</td>\n",
       "      <td>12.095607</td>\n",
       "      <td>7.376375</td>\n",
       "      <td>0.319379</td>\n",
       "      <td>78.326312</td>\n",
       "      <td>70.526545</td>\n",
       "      <td>28.254500</td>\n",
       "      <td>0</td>\n",
       "      <td>0</td>\n",
       "      <td>2</td>\n",
       "      <td>0</td>\n",
       "      <td>0</td>\n",
       "      <td>1</td>\n",
       "    </tr>\n",
       "    <tr>\n",
       "      <th>9574</th>\n",
       "      <td>9574</td>\n",
       "      <td>0.107303</td>\n",
       "      <td>13.735130</td>\n",
       "      <td>11.066999</td>\n",
       "      <td>0.205708</td>\n",
       "      <td>0.319379</td>\n",
       "      <td>56.168938</td>\n",
       "      <td>10.181066</td>\n",
       "      <td>0.965069</td>\n",
       "      <td>0</td>\n",
       "      <td>0</td>\n",
       "      <td>5</td>\n",
       "      <td>0</td>\n",
       "      <td>0</td>\n",
       "      <td>1</td>\n",
       "    </tr>\n",
       "    <tr>\n",
       "      <th>9575</th>\n",
       "      <td>9575</td>\n",
       "      <td>0.093692</td>\n",
       "      <td>9.567630</td>\n",
       "      <td>10.527034</td>\n",
       "      <td>8.956636</td>\n",
       "      <td>0.319379</td>\n",
       "      <td>51.239566</td>\n",
       "      <td>32.367248</td>\n",
       "      <td>28.448854</td>\n",
       "      <td>0</td>\n",
       "      <td>2</td>\n",
       "      <td>8</td>\n",
       "      <td>0</td>\n",
       "      <td>0</td>\n",
       "      <td>1</td>\n",
       "    </tr>\n",
       "    <tr>\n",
       "      <th>9576</th>\n",
       "      <td>9576</td>\n",
       "      <td>0.131703</td>\n",
       "      <td>15.340807</td>\n",
       "      <td>10.748036</td>\n",
       "      <td>12.308182</td>\n",
       "      <td>0.319379</td>\n",
       "      <td>39.799336</td>\n",
       "      <td>0.000000</td>\n",
       "      <td>2.431999</td>\n",
       "      <td>0</td>\n",
       "      <td>4</td>\n",
       "      <td>5</td>\n",
       "      <td>0</td>\n",
       "      <td>0</td>\n",
       "      <td>1</td>\n",
       "    </tr>\n",
       "    <tr>\n",
       "      <th>9577</th>\n",
       "      <td>9577</td>\n",
       "      <td>0.117313</td>\n",
       "      <td>20.806744</td>\n",
       "      <td>11.188405</td>\n",
       "      <td>10.743581</td>\n",
       "      <td>0.319379</td>\n",
       "      <td>57.897662</td>\n",
       "      <td>45.641810</td>\n",
       "      <td>21.804504</td>\n",
       "      <td>0</td>\n",
       "      <td>2</td>\n",
       "      <td>6</td>\n",
       "      <td>0</td>\n",
       "      <td>0</td>\n",
       "      <td>1</td>\n",
       "    </tr>\n",
       "  </tbody>\n",
       "</table>\n",
       "<p>9578 rows × 15 columns</p>\n",
       "</div>"
      ],
      "text/plain": [
       "      Unnamed: 0  int.rate  installment  log.annual.inc        dti      fico  \\\n",
       "0              0  0.102583    20.605475       11.273506  12.467226  0.319379   \n",
       "1              1  0.093692    13.145587       11.007861   9.637935  0.319379   \n",
       "2              2  0.114823    15.572202       10.306015   8.110935  0.319379   \n",
       "3              3  0.088841    11.599771       11.273506   5.973022  0.319379   \n",
       "4              4  0.119713     9.758462       11.223328  10.018973  0.319379   \n",
       "...          ...       ...          ...             ...        ...       ...   \n",
       "9573        9573  0.122163    15.235219       12.095607   7.376375  0.319379   \n",
       "9574        9574  0.107303    13.735130       11.066999   0.205708  0.319379   \n",
       "9575        9575  0.093692     9.567630       10.527034   8.956636  0.319379   \n",
       "9576        9576  0.131703    15.340807       10.748036  12.308182  0.319379   \n",
       "9577        9577  0.117313    20.806744       11.188405  10.743581  0.319379   \n",
       "\n",
       "      days.with.cr.line  revol.bal  revol.util  credit.policy  purpose  \\\n",
       "0             61.883201  42.578007   20.448191              1        2   \n",
       "1             47.004650  44.276121   26.926535              1        1   \n",
       "2             57.756847  24.420102   12.225867              1        2   \n",
       "3             46.605702  44.290901   26.050039              1        2   \n",
       "4             54.585999  26.496515   16.759817              1        1   \n",
       "...                 ...        ...         ...            ...      ...   \n",
       "9573          78.326312  70.526545   28.254500              0        0   \n",
       "9574          56.168938  10.181066    0.965069              0        0   \n",
       "9575          51.239566  32.367248   28.448854              0        2   \n",
       "9576          39.799336   0.000000    2.431999              0        4   \n",
       "9577          57.897662  45.641810   21.804504              0        2   \n",
       "\n",
       "      inq.last.6mths  delinq.2yrs  pub.rec  not.fully.paid  \n",
       "0                  0            0        0               0  \n",
       "1                  0            0        0               0  \n",
       "2                  1            0        0               0  \n",
       "3                  1            0        0               0  \n",
       "4                  0            1        0               0  \n",
       "...              ...          ...      ...             ...  \n",
       "9573               2            0        0               1  \n",
       "9574               5            0        0               1  \n",
       "9575               8            0        0               1  \n",
       "9576               5            0        0               1  \n",
       "9577               6            0        0               1  \n",
       "\n",
       "[9578 rows x 15 columns]"
      ]
     },
     "execution_count": 3,
     "metadata": {},
     "output_type": "execute_result"
    }
   ],
   "source": [
    "pd.read_csv(\"../input/loan-data/loan_data.csv\")"
   ]
  },
  {
   "cell_type": "code",
   "execution_count": 4,
   "id": "12cb69b8",
   "metadata": {
    "execution": {
     "iopub.execute_input": "2022-04-29T05:35:51.033408Z",
     "iopub.status.busy": "2022-04-29T05:35:51.032992Z",
     "iopub.status.idle": "2022-04-29T05:35:51.070143Z",
     "shell.execute_reply": "2022-04-29T05:35:51.069423Z"
    },
    "papermill": {
     "duration": 0.058712,
     "end_time": "2022-04-29T05:35:51.072407",
     "exception": false,
     "start_time": "2022-04-29T05:35:51.013695",
     "status": "completed"
    },
    "tags": []
   },
   "outputs": [],
   "source": [
    "loan_df=pd.read_csv(\"../input/loan-data/loan_data.csv\")\n",
    "y=pd.read_csv(\"../input/output/output.csv\",header=None)"
   ]
  },
  {
   "cell_type": "code",
   "execution_count": 5,
   "id": "59f4c073",
   "metadata": {
    "execution": {
     "iopub.execute_input": "2022-04-29T05:35:51.112981Z",
     "iopub.status.busy": "2022-04-29T05:35:51.112764Z",
     "iopub.status.idle": "2022-04-29T05:35:51.125027Z",
     "shell.execute_reply": "2022-04-29T05:35:51.124323Z"
    },
    "papermill": {
     "duration": 0.034632,
     "end_time": "2022-04-29T05:35:51.126816",
     "exception": false,
     "start_time": "2022-04-29T05:35:51.092184",
     "status": "completed"
    },
    "tags": []
   },
   "outputs": [
    {
     "data": {
      "text/html": [
       "<div>\n",
       "<style scoped>\n",
       "    .dataframe tbody tr th:only-of-type {\n",
       "        vertical-align: middle;\n",
       "    }\n",
       "\n",
       "    .dataframe tbody tr th {\n",
       "        vertical-align: top;\n",
       "    }\n",
       "\n",
       "    .dataframe thead th {\n",
       "        text-align: right;\n",
       "    }\n",
       "</style>\n",
       "<table border=\"1\" class=\"dataframe\">\n",
       "  <thead>\n",
       "    <tr style=\"text-align: right;\">\n",
       "      <th></th>\n",
       "      <th>0</th>\n",
       "      <th>1</th>\n",
       "    </tr>\n",
       "  </thead>\n",
       "  <tbody>\n",
       "    <tr>\n",
       "      <th>0</th>\n",
       "      <td>0</td>\n",
       "      <td>1</td>\n",
       "    </tr>\n",
       "    <tr>\n",
       "      <th>1</th>\n",
       "      <td>0</td>\n",
       "      <td>1</td>\n",
       "    </tr>\n",
       "    <tr>\n",
       "      <th>2</th>\n",
       "      <td>0</td>\n",
       "      <td>1</td>\n",
       "    </tr>\n",
       "    <tr>\n",
       "      <th>3</th>\n",
       "      <td>0</td>\n",
       "      <td>1</td>\n",
       "    </tr>\n",
       "    <tr>\n",
       "      <th>4</th>\n",
       "      <td>0</td>\n",
       "      <td>1</td>\n",
       "    </tr>\n",
       "    <tr>\n",
       "      <th>...</th>\n",
       "      <td>...</td>\n",
       "      <td>...</td>\n",
       "    </tr>\n",
       "    <tr>\n",
       "      <th>9573</th>\n",
       "      <td>0</td>\n",
       "      <td>1</td>\n",
       "    </tr>\n",
       "    <tr>\n",
       "      <th>9574</th>\n",
       "      <td>0</td>\n",
       "      <td>1</td>\n",
       "    </tr>\n",
       "    <tr>\n",
       "      <th>9575</th>\n",
       "      <td>0</td>\n",
       "      <td>1</td>\n",
       "    </tr>\n",
       "    <tr>\n",
       "      <th>9576</th>\n",
       "      <td>0</td>\n",
       "      <td>1</td>\n",
       "    </tr>\n",
       "    <tr>\n",
       "      <th>9577</th>\n",
       "      <td>0</td>\n",
       "      <td>1</td>\n",
       "    </tr>\n",
       "  </tbody>\n",
       "</table>\n",
       "<p>9578 rows × 2 columns</p>\n",
       "</div>"
      ],
      "text/plain": [
       "      0  1\n",
       "0     0  1\n",
       "1     0  1\n",
       "2     0  1\n",
       "3     0  1\n",
       "4     0  1\n",
       "...  .. ..\n",
       "9573  0  1\n",
       "9574  0  1\n",
       "9575  0  1\n",
       "9576  0  1\n",
       "9577  0  1\n",
       "\n",
       "[9578 rows x 2 columns]"
      ]
     },
     "execution_count": 5,
     "metadata": {},
     "output_type": "execute_result"
    }
   ],
   "source": [
    "y"
   ]
  },
  {
   "cell_type": "code",
   "execution_count": 6,
   "id": "d521effe",
   "metadata": {
    "execution": {
     "iopub.execute_input": "2022-04-29T05:35:51.168521Z",
     "iopub.status.busy": "2022-04-29T05:35:51.167915Z",
     "iopub.status.idle": "2022-04-29T05:35:51.189205Z",
     "shell.execute_reply": "2022-04-29T05:35:51.188470Z"
    },
    "papermill": {
     "duration": 0.0445,
     "end_time": "2022-04-29T05:35:51.191622",
     "exception": false,
     "start_time": "2022-04-29T05:35:51.147122",
     "status": "completed"
    },
    "tags": []
   },
   "outputs": [
    {
     "name": "stderr",
     "output_type": "stream",
     "text": [
      "/opt/conda/lib/python3.7/site-packages/ipykernel_launcher.py:2: FutureWarning: In a future version of pandas all arguments of DataFrame.drop except for the argument 'labels' will be keyword-only\n",
      "  \n"
     ]
    }
   ],
   "source": [
    "from sklearn.model_selection import train_test_split\n",
    "xtrain,xtest,y_train,y_test= train_test_split(loan_df.drop(\"Unnamed: 0\",1),y,test_size=0.2,random_state=10)"
   ]
  },
  {
   "cell_type": "code",
   "execution_count": 7,
   "id": "c0c59fdd",
   "metadata": {
    "execution": {
     "iopub.execute_input": "2022-04-29T05:35:51.233355Z",
     "iopub.status.busy": "2022-04-29T05:35:51.232826Z",
     "iopub.status.idle": "2022-04-29T05:35:51.237444Z",
     "shell.execute_reply": "2022-04-29T05:35:51.236742Z"
    },
    "papermill": {
     "duration": 0.025857,
     "end_time": "2022-04-29T05:35:51.239068",
     "exception": false,
     "start_time": "2022-04-29T05:35:51.213211",
     "status": "completed"
    },
    "tags": []
   },
   "outputs": [
    {
     "data": {
      "text/plain": [
       "(7662, 14)"
      ]
     },
     "execution_count": 7,
     "metadata": {},
     "output_type": "execute_result"
    }
   ],
   "source": [
    "xtrain.shape"
   ]
  },
  {
   "cell_type": "code",
   "execution_count": 8,
   "id": "c88a26f8",
   "metadata": {
    "execution": {
     "iopub.execute_input": "2022-04-29T05:35:51.278992Z",
     "iopub.status.busy": "2022-04-29T05:35:51.278539Z",
     "iopub.status.idle": "2022-04-29T05:35:51.284563Z",
     "shell.execute_reply": "2022-04-29T05:35:51.283846Z"
    },
    "papermill": {
     "duration": 0.028003,
     "end_time": "2022-04-29T05:35:51.286273",
     "exception": false,
     "start_time": "2022-04-29T05:35:51.258270",
     "status": "completed"
    },
    "tags": []
   },
   "outputs": [
    {
     "data": {
      "text/plain": [
       "(7662,)"
      ]
     },
     "execution_count": 8,
     "metadata": {},
     "output_type": "execute_result"
    }
   ],
   "source": [
    "y_train[0].shape"
   ]
  },
  {
   "cell_type": "code",
   "execution_count": 9,
   "id": "861a0b77",
   "metadata": {
    "execution": {
     "iopub.execute_input": "2022-04-29T05:35:51.326826Z",
     "iopub.status.busy": "2022-04-29T05:35:51.326324Z",
     "iopub.status.idle": "2022-04-29T05:35:51.330994Z",
     "shell.execute_reply": "2022-04-29T05:35:51.330362Z"
    },
    "papermill": {
     "duration": 0.026724,
     "end_time": "2022-04-29T05:35:51.332617",
     "exception": false,
     "start_time": "2022-04-29T05:35:51.305893",
     "status": "completed"
    },
    "tags": []
   },
   "outputs": [],
   "source": [
    "from tensorflow import keras\n",
    "ytrain=keras.utils.to_categorical(y_train[0], num_classes=None, dtype='float32')\n",
    "ytest=keras.utils.to_categorical(y_test[0], num_classes=None, dtype='float32')"
   ]
  },
  {
   "cell_type": "code",
   "execution_count": 10,
   "id": "e7323d92",
   "metadata": {
    "execution": {
     "iopub.execute_input": "2022-04-29T05:35:51.373176Z",
     "iopub.status.busy": "2022-04-29T05:35:51.372702Z",
     "iopub.status.idle": "2022-04-29T05:35:51.377808Z",
     "shell.execute_reply": "2022-04-29T05:35:51.377164Z"
    },
    "papermill": {
     "duration": 0.027107,
     "end_time": "2022-04-29T05:35:51.379408",
     "exception": false,
     "start_time": "2022-04-29T05:35:51.352301",
     "status": "completed"
    },
    "tags": []
   },
   "outputs": [
    {
     "data": {
      "text/plain": [
       "array([0., 1., 0., ..., 0., 0., 0.], dtype=float32)"
      ]
     },
     "execution_count": 10,
     "metadata": {},
     "output_type": "execute_result"
    }
   ],
   "source": [
    "ytrain[:,1]"
   ]
  },
  {
   "cell_type": "markdown",
   "id": "7fad16ef",
   "metadata": {
    "execution": {
     "iopub.execute_input": "2022-04-29T00:06:48.467785Z",
     "iopub.status.busy": "2022-04-29T00:06:48.467029Z",
     "iopub.status.idle": "2022-04-29T00:06:48.492409Z",
     "shell.execute_reply": "2022-04-29T00:06:48.491565Z",
     "shell.execute_reply.started": "2022-04-29T00:06:48.467745Z"
    },
    "papermill": {
     "duration": 0.019822,
     "end_time": "2022-04-29T05:35:51.420229",
     "exception": false,
     "start_time": "2022-04-29T05:35:51.400407",
     "status": "completed"
    },
    "tags": []
   },
   "source": [
    "ignore warnings"
   ]
  },
  {
   "cell_type": "code",
   "execution_count": 11,
   "id": "841e8f1d",
   "metadata": {
    "execution": {
     "iopub.execute_input": "2022-04-29T05:35:51.462497Z",
     "iopub.status.busy": "2022-04-29T05:35:51.461952Z",
     "iopub.status.idle": "2022-04-29T05:35:53.844050Z",
     "shell.execute_reply": "2022-04-29T05:35:53.843355Z"
    },
    "papermill": {
     "duration": 2.404477,
     "end_time": "2022-04-29T05:35:53.845867",
     "exception": false,
     "start_time": "2022-04-29T05:35:51.441390",
     "status": "completed"
    },
    "tags": []
   },
   "outputs": [
    {
     "name": "stderr",
     "output_type": "stream",
     "text": [
      "2022-04-29 05:35:51.547379: I tensorflow/stream_executor/cuda/cuda_gpu_executor.cc:937] successful NUMA node read from SysFS had negative value (-1), but there must be at least one NUMA node, so returning NUMA node zero\n",
      "2022-04-29 05:35:51.662214: I tensorflow/stream_executor/cuda/cuda_gpu_executor.cc:937] successful NUMA node read from SysFS had negative value (-1), but there must be at least one NUMA node, so returning NUMA node zero\n",
      "2022-04-29 05:35:51.662960: I tensorflow/stream_executor/cuda/cuda_gpu_executor.cc:937] successful NUMA node read from SysFS had negative value (-1), but there must be at least one NUMA node, so returning NUMA node zero\n",
      "2022-04-29 05:35:51.663994: I tensorflow/core/platform/cpu_feature_guard.cc:142] This TensorFlow binary is optimized with oneAPI Deep Neural Network Library (oneDNN) to use the following CPU instructions in performance-critical operations:  AVX2 AVX512F FMA\n",
      "To enable them in other operations, rebuild TensorFlow with the appropriate compiler flags.\n",
      "2022-04-29 05:35:51.664293: I tensorflow/stream_executor/cuda/cuda_gpu_executor.cc:937] successful NUMA node read from SysFS had negative value (-1), but there must be at least one NUMA node, so returning NUMA node zero\n",
      "2022-04-29 05:35:51.664994: I tensorflow/stream_executor/cuda/cuda_gpu_executor.cc:937] successful NUMA node read from SysFS had negative value (-1), but there must be at least one NUMA node, so returning NUMA node zero\n",
      "2022-04-29 05:35:51.665623: I tensorflow/stream_executor/cuda/cuda_gpu_executor.cc:937] successful NUMA node read from SysFS had negative value (-1), but there must be at least one NUMA node, so returning NUMA node zero\n",
      "2022-04-29 05:35:53.416440: I tensorflow/stream_executor/cuda/cuda_gpu_executor.cc:937] successful NUMA node read from SysFS had negative value (-1), but there must be at least one NUMA node, so returning NUMA node zero\n",
      "2022-04-29 05:35:53.417329: I tensorflow/stream_executor/cuda/cuda_gpu_executor.cc:937] successful NUMA node read from SysFS had negative value (-1), but there must be at least one NUMA node, so returning NUMA node zero\n",
      "2022-04-29 05:35:53.418009: I tensorflow/stream_executor/cuda/cuda_gpu_executor.cc:937] successful NUMA node read from SysFS had negative value (-1), but there must be at least one NUMA node, so returning NUMA node zero\n",
      "2022-04-29 05:35:53.419293: I tensorflow/core/common_runtime/gpu/gpu_device.cc:1510] Created device /job:localhost/replica:0/task:0/device:GPU:0 with 15403 MB memory:  -> device: 0, name: Tesla P100-PCIE-16GB, pci bus id: 0000:00:04.0, compute capability: 6.0\n"
     ]
    },
    {
     "name": "stdout",
     "output_type": "stream",
     "text": [
      "Model: \"sequential\"\n",
      "_________________________________________________________________\n",
      "Layer (type)                 Output Shape              Param #   \n",
      "=================================================================\n",
      "dense (Dense)                (None, 7662, 1024)        15360     \n",
      "_________________________________________________________________\n",
      "dense_1 (Dense)              (None, 7662, 512)         524800    \n",
      "_________________________________________________________________\n",
      "dense_2 (Dense)              (None, 7662, 100)         51300     \n",
      "_________________________________________________________________\n",
      "dense_3 (Dense)              (None, 7662, 50)          5050      \n",
      "_________________________________________________________________\n",
      "dense_4 (Dense)              (None, 7662, 1)           51        \n",
      "=================================================================\n",
      "Total params: 596,561\n",
      "Trainable params: 596,561\n",
      "Non-trainable params: 0\n",
      "_________________________________________________________________\n"
     ]
    }
   ],
   "source": [
    "# Building ANN architecture\n",
    "model=Sequential()\n",
    "model.add(Dense(1024,input_shape=xtrain.shape,activation='relu'))\n",
    "model.add(Dense(512, activation ='relu'))\n",
    "model.add(Dense(100, activation ='relu'))\n",
    "model.add(Dense(50, activation ='relu'))\n",
    "model.add(Dense(1,activation='sigmoid'))\n",
    "\n",
    "model.summary()"
   ]
  },
  {
   "cell_type": "code",
   "execution_count": 12,
   "id": "fb12bd47",
   "metadata": {
    "execution": {
     "iopub.execute_input": "2022-04-29T05:35:53.889493Z",
     "iopub.status.busy": "2022-04-29T05:35:53.888882Z",
     "iopub.status.idle": "2022-04-29T05:35:53.895648Z",
     "shell.execute_reply": "2022-04-29T05:35:53.895035Z"
    },
    "papermill": {
     "duration": 0.030235,
     "end_time": "2022-04-29T05:35:53.897265",
     "exception": false,
     "start_time": "2022-04-29T05:35:53.867030",
     "status": "completed"
    },
    "tags": []
   },
   "outputs": [
    {
     "data": {
      "text/plain": [
       "(7662, 2)"
      ]
     },
     "execution_count": 12,
     "metadata": {},
     "output_type": "execute_result"
    }
   ],
   "source": [
    "ytrain.shape"
   ]
  },
  {
   "cell_type": "code",
   "execution_count": 13,
   "id": "5a358d83",
   "metadata": {
    "execution": {
     "iopub.execute_input": "2022-04-29T05:35:53.940280Z",
     "iopub.status.busy": "2022-04-29T05:35:53.939768Z",
     "iopub.status.idle": "2022-04-29T05:35:58.980818Z",
     "shell.execute_reply": "2022-04-29T05:35:58.980068Z"
    },
    "papermill": {
     "duration": 5.064344,
     "end_time": "2022-04-29T05:35:58.982492",
     "exception": false,
     "start_time": "2022-04-29T05:35:53.918148",
     "status": "completed"
    },
    "tags": []
   },
   "outputs": [
    {
     "name": "stderr",
     "output_type": "stream",
     "text": [
      "2022-04-29 05:35:54.018166: I tensorflow/compiler/mlir/mlir_graph_optimization_pass.cc:185] None of the MLIR Optimization Passes are enabled (registered 2)\n"
     ]
    },
    {
     "name": "stdout",
     "output_type": "stream",
     "text": [
      "Epoch 1/25\n",
      "40/40 [==============================] - 2s 7ms/step - loss: 0.2806 - accuracy: 0.9380 - val_loss: 0.1596 - val_accuracy: 0.9374\n",
      "Epoch 2/25\n",
      "40/40 [==============================] - 0s 3ms/step - loss: 0.1061 - accuracy: 0.9556 - val_loss: 0.0726 - val_accuracy: 0.9596\n",
      "Epoch 3/25\n",
      "40/40 [==============================] - 0s 3ms/step - loss: 0.0552 - accuracy: 0.9776 - val_loss: 0.0332 - val_accuracy: 0.9909\n",
      "Epoch 4/25\n",
      "40/40 [==============================] - 0s 3ms/step - loss: 0.0488 - accuracy: 0.9783 - val_loss: 0.1673 - val_accuracy: 0.9406\n",
      "Epoch 5/25\n",
      "40/40 [==============================] - 0s 3ms/step - loss: 0.0559 - accuracy: 0.9745 - val_loss: 0.0942 - val_accuracy: 0.9498\n",
      "Epoch 6/25\n",
      "40/40 [==============================] - 0s 3ms/step - loss: 0.0669 - accuracy: 0.9669 - val_loss: 0.0474 - val_accuracy: 0.9791\n",
      "Epoch 7/25\n",
      "40/40 [==============================] - 0s 3ms/step - loss: 0.0293 - accuracy: 0.9889 - val_loss: 0.0319 - val_accuracy: 0.9883\n",
      "Epoch 8/25\n",
      "40/40 [==============================] - 0s 3ms/step - loss: 0.0229 - accuracy: 0.9927 - val_loss: 0.0186 - val_accuracy: 0.9915\n",
      "Epoch 9/25\n",
      "40/40 [==============================] - 0s 3ms/step - loss: 0.0210 - accuracy: 0.9933 - val_loss: 0.0560 - val_accuracy: 0.9700\n",
      "Epoch 10/25\n",
      "40/40 [==============================] - 0s 3ms/step - loss: 0.0600 - accuracy: 0.9741 - val_loss: 0.0269 - val_accuracy: 0.9876\n",
      "Epoch 11/25\n",
      "40/40 [==============================] - 0s 4ms/step - loss: 0.0224 - accuracy: 0.9920 - val_loss: 0.0167 - val_accuracy: 0.9935\n",
      "Epoch 12/25\n",
      "40/40 [==============================] - 0s 3ms/step - loss: 0.0267 - accuracy: 0.9896 - val_loss: 0.0323 - val_accuracy: 0.9870\n",
      "Epoch 13/25\n",
      "40/40 [==============================] - 0s 3ms/step - loss: 0.0203 - accuracy: 0.9936 - val_loss: 0.0166 - val_accuracy: 0.9941\n",
      "Epoch 14/25\n",
      "40/40 [==============================] - 0s 3ms/step - loss: 0.0402 - accuracy: 0.9845 - val_loss: 0.0139 - val_accuracy: 0.9954\n",
      "Epoch 15/25\n",
      "40/40 [==============================] - 0s 3ms/step - loss: 0.0137 - accuracy: 0.9959 - val_loss: 0.0103 - val_accuracy: 0.9961\n",
      "Epoch 16/25\n",
      "40/40 [==============================] - 0s 3ms/step - loss: 0.0195 - accuracy: 0.9930 - val_loss: 0.0361 - val_accuracy: 0.9870\n",
      "Epoch 17/25\n",
      "40/40 [==============================] - 0s 3ms/step - loss: 0.0192 - accuracy: 0.9922 - val_loss: 0.1159 - val_accuracy: 0.9530\n",
      "Epoch 18/25\n",
      "40/40 [==============================] - 0s 3ms/step - loss: 0.0619 - accuracy: 0.9763 - val_loss: 0.0341 - val_accuracy: 0.9856\n",
      "Epoch 19/25\n",
      "40/40 [==============================] - 0s 7ms/step - loss: 0.0189 - accuracy: 0.9925 - val_loss: 0.0085 - val_accuracy: 0.9967\n",
      "Epoch 20/25\n",
      "40/40 [==============================] - 0s 5ms/step - loss: 0.0183 - accuracy: 0.9927 - val_loss: 0.0570 - val_accuracy: 0.9830\n",
      "Epoch 21/25\n",
      "40/40 [==============================] - 0s 4ms/step - loss: 0.0338 - accuracy: 0.9883 - val_loss: 0.0118 - val_accuracy: 0.9967\n",
      "Epoch 22/25\n",
      "40/40 [==============================] - 0s 3ms/step - loss: 0.0158 - accuracy: 0.9941 - val_loss: 0.0208 - val_accuracy: 0.9954\n",
      "Epoch 23/25\n",
      "40/40 [==============================] - 0s 3ms/step - loss: 0.0115 - accuracy: 0.9962 - val_loss: 0.0336 - val_accuracy: 0.9863\n",
      "Epoch 24/25\n",
      "40/40 [==============================] - 0s 3ms/step - loss: 0.0503 - accuracy: 0.9811 - val_loss: 0.0190 - val_accuracy: 0.9922\n",
      "Epoch 25/25\n",
      "40/40 [==============================] - 0s 3ms/step - loss: 0.0174 - accuracy: 0.9941 - val_loss: 0.0093 - val_accuracy: 0.9961\n"
     ]
    },
    {
     "data": {
      "text/plain": [
       "<keras.callbacks.History at 0x7f9c0d466c10>"
      ]
     },
     "execution_count": 13,
     "metadata": {},
     "output_type": "execute_result"
    }
   ],
   "source": [
    "model.compile(loss='binary_crossentropy',optimizer='adam',metrics=['accuracy'])\n",
    "model.fit(xtrain,ytrain[:,0:1],epochs=25,batch_size=154,verbose=1,validation_split=.2)"
   ]
  },
  {
   "cell_type": "code",
   "execution_count": 14,
   "id": "a9d1628c",
   "metadata": {
    "execution": {
     "iopub.execute_input": "2022-04-29T05:35:59.079206Z",
     "iopub.status.busy": "2022-04-29T05:35:59.078609Z",
     "iopub.status.idle": "2022-04-29T05:35:59.085200Z",
     "shell.execute_reply": "2022-04-29T05:35:59.084546Z"
    },
    "papermill": {
     "duration": 0.056616,
     "end_time": "2022-04-29T05:35:59.086868",
     "exception": false,
     "start_time": "2022-04-29T05:35:59.030252",
     "status": "completed"
    },
    "tags": []
   },
   "outputs": [
    {
     "data": {
      "text/plain": [
       "(1916, 2)"
      ]
     },
     "execution_count": 14,
     "metadata": {},
     "output_type": "execute_result"
    }
   ],
   "source": [
    "y_test.shape"
   ]
  },
  {
   "cell_type": "code",
   "execution_count": 15,
   "id": "cea762b5",
   "metadata": {
    "execution": {
     "iopub.execute_input": "2022-04-29T05:35:59.190640Z",
     "iopub.status.busy": "2022-04-29T05:35:59.190411Z",
     "iopub.status.idle": "2022-04-29T05:35:59.486475Z",
     "shell.execute_reply": "2022-04-29T05:35:59.485526Z"
    },
    "papermill": {
     "duration": 0.354685,
     "end_time": "2022-04-29T05:35:59.488962",
     "exception": false,
     "start_time": "2022-04-29T05:35:59.134277",
     "status": "completed"
    },
    "tags": []
   },
   "outputs": [
    {
     "name": "stdout",
     "output_type": "stream",
     "text": [
      "Accuracy: 0.997\n",
      "Loss: 0.012\n"
     ]
    }
   ],
   "source": [
    "loss, acc = model.evaluate(xtest, ytest[:,0], verbose=0)\n",
    "print('Accuracy: %.3f'  % acc)\n",
    "print('Loss: %.3f' % loss)"
   ]
  },
  {
   "cell_type": "code",
   "execution_count": 16,
   "id": "1b7a8759",
   "metadata": {
    "execution": {
     "iopub.execute_input": "2022-04-29T05:35:59.598943Z",
     "iopub.status.busy": "2022-04-29T05:35:59.598674Z",
     "iopub.status.idle": "2022-04-29T05:35:59.776998Z",
     "shell.execute_reply": "2022-04-29T05:35:59.776198Z"
    },
    "papermill": {
     "duration": 0.235294,
     "end_time": "2022-04-29T05:35:59.778995",
     "exception": false,
     "start_time": "2022-04-29T05:35:59.543701",
     "status": "completed"
    },
    "tags": []
   },
   "outputs": [
    {
     "data": {
      "text/plain": [
       "array([[1],\n",
       "       [1],\n",
       "       [1],\n",
       "       ...,\n",
       "       [1],\n",
       "       [1],\n",
       "       [1]])"
      ]
     },
     "execution_count": 16,
     "metadata": {},
     "output_type": "execute_result"
    }
   ],
   "source": [
    "pred=model.predict(xtest).astype('int');pred"
   ]
  },
  {
   "cell_type": "code",
   "execution_count": 17,
   "id": "841f20b7",
   "metadata": {
    "execution": {
     "iopub.execute_input": "2022-04-29T05:35:59.887885Z",
     "iopub.status.busy": "2022-04-29T05:35:59.887654Z",
     "iopub.status.idle": "2022-04-29T05:35:59.895665Z",
     "shell.execute_reply": "2022-04-29T05:35:59.894601Z"
    },
    "papermill": {
     "duration": 0.065693,
     "end_time": "2022-04-29T05:35:59.898520",
     "exception": false,
     "start_time": "2022-04-29T05:35:59.832827",
     "status": "completed"
    },
    "tags": []
   },
   "outputs": [
    {
     "name": "stdout",
     "output_type": "stream",
     "text": [
      "actual value of output: [1. 1. 1. ... 1. 1. 1.]\n",
      "predicted values of output: [1 1 1 ... 1 1 1]\n"
     ]
    }
   ],
   "source": [
    "print(\"actual value of output:\", ytest[:,0])\n",
    "print(\"predicted values of output:\",pred.astype('int').ravel())"
   ]
  },
  {
   "cell_type": "code",
   "execution_count": 18,
   "id": "9b15734d",
   "metadata": {
    "execution": {
     "iopub.execute_input": "2022-04-29T05:36:00.008327Z",
     "iopub.status.busy": "2022-04-29T05:36:00.008116Z",
     "iopub.status.idle": "2022-04-29T05:36:00.013609Z",
     "shell.execute_reply": "2022-04-29T05:36:00.012824Z"
    },
    "papermill": {
     "duration": 0.0581,
     "end_time": "2022-04-29T05:36:00.016037",
     "exception": false,
     "start_time": "2022-04-29T05:35:59.957937",
     "status": "completed"
    },
    "tags": []
   },
   "outputs": [
    {
     "name": "stdout",
     "output_type": "stream",
     "text": [
      "sample value of ouput: [0.]\n",
      "predicted values of output: [0]\n"
     ]
    }
   ],
   "source": [
    "# checking for rare sample i.e output as 0\n",
    "print('sample value of ouput:' ,ytest[13,0:1])\n",
    "print(\"predicted values of output:\", pred[13,:].astype('int'))"
   ]
  },
  {
   "cell_type": "code",
   "execution_count": 19,
   "id": "0ff655bc",
   "metadata": {
    "execution": {
     "iopub.execute_input": "2022-04-29T05:36:00.114833Z",
     "iopub.status.busy": "2022-04-29T05:36:00.114644Z",
     "iopub.status.idle": "2022-04-29T05:36:00.119651Z",
     "shell.execute_reply": "2022-04-29T05:36:00.118981Z"
    },
    "papermill": {
     "duration": 0.056887,
     "end_time": "2022-04-29T05:36:00.122063",
     "exception": false,
     "start_time": "2022-04-29T05:36:00.065176",
     "status": "completed"
    },
    "tags": []
   },
   "outputs": [
    {
     "name": "stdout",
     "output_type": "stream",
     "text": [
      "sample value of ouput: [0.]\n",
      "predicted values of output: [0]\n"
     ]
    }
   ],
   "source": [
    "# checking for rare sample i.e output as 0\n",
    "print('sample value of ouput:' ,ytest[7,0:1])\n",
    "print(\"predicted values of output:\", pred[7,:].astype('int'))"
   ]
  },
  {
   "cell_type": "markdown",
   "id": "ca33a213",
   "metadata": {
    "papermill": {
     "duration": 0.049482,
     "end_time": "2022-04-29T05:36:00.223185",
     "exception": false,
     "start_time": "2022-04-29T05:36:00.173703",
     "status": "completed"
    },
    "tags": []
   },
   "source": [
    "> Whenever we are getting 1 as output it means its not a defaulter for such cases.We also checked if model predicts defaulter loan with sample as above..So we conclude our estimation"
   ]
  },
  {
   "cell_type": "markdown",
   "id": "2ef9f034",
   "metadata": {
    "papermill": {
     "duration": 0.049027,
     "end_time": "2022-04-29T05:36:00.321177",
     "exception": false,
     "start_time": "2022-04-29T05:36:00.272150",
     "status": "completed"
    },
    "tags": []
   },
   "source": []
  }
 ],
 "metadata": {
  "kernelspec": {
   "display_name": "Python 3",
   "language": "python",
   "name": "python3"
  },
  "language_info": {
   "codemirror_mode": {
    "name": "ipython",
    "version": 3
   },
   "file_extension": ".py",
   "mimetype": "text/x-python",
   "name": "python",
   "nbconvert_exporter": "python",
   "pygments_lexer": "ipython3",
   "version": "3.7.12"
  },
  "papermill": {
   "default_parameters": {},
   "duration": 26.307047,
   "end_time": "2022-04-29T05:36:03.522739",
   "environment_variables": {},
   "exception": null,
   "input_path": "__notebook__.ipynb",
   "output_path": "__notebook__.ipynb",
   "parameters": {},
   "start_time": "2022-04-29T05:35:37.215692",
   "version": "2.3.4"
  }
 },
 "nbformat": 4,
 "nbformat_minor": 5
}
