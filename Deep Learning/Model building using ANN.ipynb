{
 "cells": [
  {
   "cell_type": "code",
   "execution_count": 1,
   "metadata": {
    "execution": {
     "iopub.execute_input": "2022-04-29T00:00:05.066611Z",
     "iopub.status.busy": "2022-04-29T00:00:05.066234Z",
     "iopub.status.idle": "2022-04-29T00:00:05.972639Z",
     "shell.execute_reply": "2022-04-29T00:00:05.971885Z",
     "shell.execute_reply.started": "2022-04-29T00:00:05.066569Z"
    }
   },
   "outputs": [],
   "source": [
    "import numpy as np\n",
    "import pandas as pd\n",
    "from sklearn import metrics\n",
    "import matplotlib.pyplot as plt\n",
    "%matplotlib inline"
   ]
  },
  {
   "cell_type": "code",
   "execution_count": 2,
   "metadata": {
    "execution": {
     "iopub.execute_input": "2022-04-29T00:33:35.944269Z",
     "iopub.status.busy": "2022-04-29T00:33:35.943998Z",
     "iopub.status.idle": "2022-04-29T00:33:35.947879Z",
     "shell.execute_reply": "2022-04-29T00:33:35.947039Z",
     "shell.execute_reply.started": "2022-04-29T00:33:35.944241Z"
    }
   },
   "outputs": [],
   "source": [
    "from tensorflow.keras import Sequential\n",
    "from tensorflow.keras.layers import Dense"
   ]
  },
  {
   "cell_type": "code",
   "execution_count": 8,
   "metadata": {
    "execution": {
     "iopub.execute_input": "2022-04-29T00:00:11.004663Z",
     "iopub.status.busy": "2022-04-29T00:00:11.004049Z",
     "iopub.status.idle": "2022-04-29T00:00:11.105556Z",
     "shell.execute_reply": "2022-04-29T00:00:11.103198Z",
     "shell.execute_reply.started": "2022-04-29T00:00:11.004634Z"
    }
   },
   "outputs": [
    {
     "data": {
      "text/html": [
       "<div>\n",
       "<style scoped>\n",
       "    .dataframe tbody tr th:only-of-type {\n",
       "        vertical-align: middle;\n",
       "    }\n",
       "\n",
       "    .dataframe tbody tr th {\n",
       "        vertical-align: top;\n",
       "    }\n",
       "\n",
       "    .dataframe thead th {\n",
       "        text-align: right;\n",
       "    }\n",
       "</style>\n",
       "<table border=\"1\" class=\"dataframe\">\n",
       "  <thead>\n",
       "    <tr style=\"text-align: right;\">\n",
       "      <th></th>\n",
       "      <th>Unnamed: 0</th>\n",
       "      <th>int.rate</th>\n",
       "      <th>installment</th>\n",
       "      <th>log.annual.inc</th>\n",
       "      <th>dti</th>\n",
       "      <th>fico</th>\n",
       "      <th>days.with.cr.line</th>\n",
       "      <th>revol.bal</th>\n",
       "      <th>revol.util</th>\n",
       "      <th>credit.policy</th>\n",
       "      <th>purpose</th>\n",
       "      <th>inq.last.6mths</th>\n",
       "      <th>delinq.2yrs</th>\n",
       "      <th>pub.rec</th>\n",
       "      <th>not.fully.paid</th>\n",
       "    </tr>\n",
       "  </thead>\n",
       "  <tbody>\n",
       "    <tr>\n",
       "      <th>0</th>\n",
       "      <td>0</td>\n",
       "      <td>0.102583</td>\n",
       "      <td>20.605475</td>\n",
       "      <td>11.273506</td>\n",
       "      <td>12.467226</td>\n",
       "      <td>0.319379</td>\n",
       "      <td>61.883201</td>\n",
       "      <td>42.578007</td>\n",
       "      <td>20.448191</td>\n",
       "      <td>1</td>\n",
       "      <td>2</td>\n",
       "      <td>0</td>\n",
       "      <td>0</td>\n",
       "      <td>0</td>\n",
       "      <td>0</td>\n",
       "    </tr>\n",
       "    <tr>\n",
       "      <th>1</th>\n",
       "      <td>1</td>\n",
       "      <td>0.093692</td>\n",
       "      <td>13.145587</td>\n",
       "      <td>11.007861</td>\n",
       "      <td>9.637935</td>\n",
       "      <td>0.319379</td>\n",
       "      <td>47.004650</td>\n",
       "      <td>44.276121</td>\n",
       "      <td>26.926535</td>\n",
       "      <td>1</td>\n",
       "      <td>1</td>\n",
       "      <td>0</td>\n",
       "      <td>0</td>\n",
       "      <td>0</td>\n",
       "      <td>0</td>\n",
       "    </tr>\n",
       "    <tr>\n",
       "      <th>2</th>\n",
       "      <td>2</td>\n",
       "      <td>0.114823</td>\n",
       "      <td>15.572202</td>\n",
       "      <td>10.306015</td>\n",
       "      <td>8.110935</td>\n",
       "      <td>0.319379</td>\n",
       "      <td>57.756847</td>\n",
       "      <td>24.420102</td>\n",
       "      <td>12.225867</td>\n",
       "      <td>1</td>\n",
       "      <td>2</td>\n",
       "      <td>1</td>\n",
       "      <td>0</td>\n",
       "      <td>0</td>\n",
       "      <td>0</td>\n",
       "    </tr>\n",
       "    <tr>\n",
       "      <th>3</th>\n",
       "      <td>3</td>\n",
       "      <td>0.088841</td>\n",
       "      <td>11.599771</td>\n",
       "      <td>11.273506</td>\n",
       "      <td>5.973022</td>\n",
       "      <td>0.319379</td>\n",
       "      <td>46.605702</td>\n",
       "      <td>44.290901</td>\n",
       "      <td>26.050039</td>\n",
       "      <td>1</td>\n",
       "      <td>2</td>\n",
       "      <td>1</td>\n",
       "      <td>0</td>\n",
       "      <td>0</td>\n",
       "      <td>0</td>\n",
       "    </tr>\n",
       "    <tr>\n",
       "      <th>4</th>\n",
       "      <td>4</td>\n",
       "      <td>0.119713</td>\n",
       "      <td>9.758462</td>\n",
       "      <td>11.223328</td>\n",
       "      <td>10.018973</td>\n",
       "      <td>0.319379</td>\n",
       "      <td>54.585999</td>\n",
       "      <td>26.496515</td>\n",
       "      <td>16.759817</td>\n",
       "      <td>1</td>\n",
       "      <td>1</td>\n",
       "      <td>0</td>\n",
       "      <td>1</td>\n",
       "      <td>0</td>\n",
       "      <td>0</td>\n",
       "    </tr>\n",
       "    <tr>\n",
       "      <th>...</th>\n",
       "      <td>...</td>\n",
       "      <td>...</td>\n",
       "      <td>...</td>\n",
       "      <td>...</td>\n",
       "      <td>...</td>\n",
       "      <td>...</td>\n",
       "      <td>...</td>\n",
       "      <td>...</td>\n",
       "      <td>...</td>\n",
       "      <td>...</td>\n",
       "      <td>...</td>\n",
       "      <td>...</td>\n",
       "      <td>...</td>\n",
       "      <td>...</td>\n",
       "      <td>...</td>\n",
       "    </tr>\n",
       "    <tr>\n",
       "      <th>9573</th>\n",
       "      <td>9573</td>\n",
       "      <td>0.122163</td>\n",
       "      <td>15.235219</td>\n",
       "      <td>12.095607</td>\n",
       "      <td>7.376375</td>\n",
       "      <td>0.319379</td>\n",
       "      <td>78.326312</td>\n",
       "      <td>70.526545</td>\n",
       "      <td>28.254500</td>\n",
       "      <td>0</td>\n",
       "      <td>0</td>\n",
       "      <td>2</td>\n",
       "      <td>0</td>\n",
       "      <td>0</td>\n",
       "      <td>1</td>\n",
       "    </tr>\n",
       "    <tr>\n",
       "      <th>9574</th>\n",
       "      <td>9574</td>\n",
       "      <td>0.107303</td>\n",
       "      <td>13.735130</td>\n",
       "      <td>11.066999</td>\n",
       "      <td>0.205708</td>\n",
       "      <td>0.319379</td>\n",
       "      <td>56.168938</td>\n",
       "      <td>10.181066</td>\n",
       "      <td>0.965069</td>\n",
       "      <td>0</td>\n",
       "      <td>0</td>\n",
       "      <td>5</td>\n",
       "      <td>0</td>\n",
       "      <td>0</td>\n",
       "      <td>1</td>\n",
       "    </tr>\n",
       "    <tr>\n",
       "      <th>9575</th>\n",
       "      <td>9575</td>\n",
       "      <td>0.093692</td>\n",
       "      <td>9.567630</td>\n",
       "      <td>10.527034</td>\n",
       "      <td>8.956636</td>\n",
       "      <td>0.319379</td>\n",
       "      <td>51.239566</td>\n",
       "      <td>32.367248</td>\n",
       "      <td>28.448854</td>\n",
       "      <td>0</td>\n",
       "      <td>2</td>\n",
       "      <td>8</td>\n",
       "      <td>0</td>\n",
       "      <td>0</td>\n",
       "      <td>1</td>\n",
       "    </tr>\n",
       "    <tr>\n",
       "      <th>9576</th>\n",
       "      <td>9576</td>\n",
       "      <td>0.131703</td>\n",
       "      <td>15.340807</td>\n",
       "      <td>10.748036</td>\n",
       "      <td>12.308182</td>\n",
       "      <td>0.319379</td>\n",
       "      <td>39.799336</td>\n",
       "      <td>0.000000</td>\n",
       "      <td>2.431999</td>\n",
       "      <td>0</td>\n",
       "      <td>4</td>\n",
       "      <td>5</td>\n",
       "      <td>0</td>\n",
       "      <td>0</td>\n",
       "      <td>1</td>\n",
       "    </tr>\n",
       "    <tr>\n",
       "      <th>9577</th>\n",
       "      <td>9577</td>\n",
       "      <td>0.117313</td>\n",
       "      <td>20.806744</td>\n",
       "      <td>11.188405</td>\n",
       "      <td>10.743581</td>\n",
       "      <td>0.319379</td>\n",
       "      <td>57.897662</td>\n",
       "      <td>45.641810</td>\n",
       "      <td>21.804504</td>\n",
       "      <td>0</td>\n",
       "      <td>2</td>\n",
       "      <td>6</td>\n",
       "      <td>0</td>\n",
       "      <td>0</td>\n",
       "      <td>1</td>\n",
       "    </tr>\n",
       "  </tbody>\n",
       "</table>\n",
       "<p>9578 rows × 15 columns</p>\n",
       "</div>"
      ],
      "text/plain": [
       "      Unnamed: 0  int.rate  installment  log.annual.inc        dti      fico  \\\n",
       "0              0  0.102583    20.605475       11.273506  12.467226  0.319379   \n",
       "1              1  0.093692    13.145587       11.007861   9.637935  0.319379   \n",
       "2              2  0.114823    15.572202       10.306015   8.110935  0.319379   \n",
       "3              3  0.088841    11.599771       11.273506   5.973022  0.319379   \n",
       "4              4  0.119713     9.758462       11.223328  10.018973  0.319379   \n",
       "...          ...       ...          ...             ...        ...       ...   \n",
       "9573        9573  0.122163    15.235219       12.095607   7.376375  0.319379   \n",
       "9574        9574  0.107303    13.735130       11.066999   0.205708  0.319379   \n",
       "9575        9575  0.093692     9.567630       10.527034   8.956636  0.319379   \n",
       "9576        9576  0.131703    15.340807       10.748036  12.308182  0.319379   \n",
       "9577        9577  0.117313    20.806744       11.188405  10.743581  0.319379   \n",
       "\n",
       "      days.with.cr.line  revol.bal  revol.util  credit.policy  purpose  \\\n",
       "0             61.883201  42.578007   20.448191              1        2   \n",
       "1             47.004650  44.276121   26.926535              1        1   \n",
       "2             57.756847  24.420102   12.225867              1        2   \n",
       "3             46.605702  44.290901   26.050039              1        2   \n",
       "4             54.585999  26.496515   16.759817              1        1   \n",
       "...                 ...        ...         ...            ...      ...   \n",
       "9573          78.326312  70.526545   28.254500              0        0   \n",
       "9574          56.168938  10.181066    0.965069              0        0   \n",
       "9575          51.239566  32.367248   28.448854              0        2   \n",
       "9576          39.799336   0.000000    2.431999              0        4   \n",
       "9577          57.897662  45.641810   21.804504              0        2   \n",
       "\n",
       "      inq.last.6mths  delinq.2yrs  pub.rec  not.fully.paid  \n",
       "0                  0            0        0               0  \n",
       "1                  0            0        0               0  \n",
       "2                  1            0        0               0  \n",
       "3                  1            0        0               0  \n",
       "4                  0            1        0               0  \n",
       "...              ...          ...      ...             ...  \n",
       "9573               2            0        0               1  \n",
       "9574               5            0        0               1  \n",
       "9575               8            0        0               1  \n",
       "9576               5            0        0               1  \n",
       "9577               6            0        0               1  \n",
       "\n",
       "[9578 rows x 15 columns]"
      ]
     },
     "execution_count": 8,
     "metadata": {},
     "output_type": "execute_result"
    }
   ],
   "source": [
    "pd.read_csv(\"C:\\\\Users\\\\FB\\\\Python Data\\\\Deep Learning\\\\loan_data.csv\")"
   ]
  },
  {
   "cell_type": "code",
   "execution_count": 9,
   "metadata": {
    "execution": {
     "iopub.execute_input": "2022-04-29T00:00:11.106969Z",
     "iopub.status.busy": "2022-04-29T00:00:11.106686Z",
     "iopub.status.idle": "2022-04-29T00:00:11.166060Z",
     "shell.execute_reply": "2022-04-29T00:00:11.164488Z",
     "shell.execute_reply.started": "2022-04-29T00:00:11.106932Z"
    }
   },
   "outputs": [],
   "source": [
    "loan_df=pd.read_csv(\"C:\\\\Users\\\\FB\\\\Python Data\\\\Deep Learning\\\\loan_data.csv\")\n",
    "y=pd.read_csv(\"D:\\\\PG_DSBA_Business_Analytics_\\\\Deep learning\\\\Assessment\\\\output.csv\",header=None)"
   ]
  },
  {
   "cell_type": "code",
   "execution_count": 10,
   "metadata": {
    "execution": {
     "iopub.execute_input": "2022-04-29T00:18:06.596140Z",
     "iopub.status.busy": "2022-04-29T00:18:06.595869Z",
     "iopub.status.idle": "2022-04-29T00:18:06.608434Z",
     "shell.execute_reply": "2022-04-29T00:18:06.607334Z",
     "shell.execute_reply.started": "2022-04-29T00:18:06.596112Z"
    }
   },
   "outputs": [
    {
     "name": "stderr",
     "output_type": "stream",
     "text": [
      "C:\\Users\\FB\\AppData\\Local\\Temp/ipykernel_20496/748699241.py:2: FutureWarning: In a future version of pandas all arguments of DataFrame.drop except for the argument 'labels' will be keyword-only\n",
      "  xtrain,xtest,y_train,y_test= train_test_split(loan_df.drop(\"Unnamed: 0\",1),y,test_size=0.2,random_state=10)\n"
     ]
    }
   ],
   "source": [
    "from sklearn.model_selection import train_test_split\n",
    "xtrain,xtest,y_train,y_test= train_test_split(loan_df.drop(\"Unnamed: 0\",1),y,test_size=0.2,random_state=10)"
   ]
  },
  {
   "cell_type": "code",
   "execution_count": 11,
   "metadata": {
    "execution": {
     "iopub.execute_input": "2022-04-29T00:18:10.865879Z",
     "iopub.status.busy": "2022-04-29T00:18:10.865605Z",
     "iopub.status.idle": "2022-04-29T00:18:10.871622Z",
     "shell.execute_reply": "2022-04-29T00:18:10.870869Z",
     "shell.execute_reply.started": "2022-04-29T00:18:10.865850Z"
    }
   },
   "outputs": [
    {
     "data": {
      "text/plain": [
       "(7662, 14)"
      ]
     },
     "execution_count": 11,
     "metadata": {},
     "output_type": "execute_result"
    }
   ],
   "source": [
    "xtrain.shape"
   ]
  },
  {
   "cell_type": "code",
   "execution_count": 12,
   "metadata": {
    "execution": {
     "iopub.execute_input": "2022-04-29T00:40:31.047772Z",
     "iopub.status.busy": "2022-04-29T00:40:31.047501Z",
     "iopub.status.idle": "2022-04-29T00:40:31.055920Z",
     "shell.execute_reply": "2022-04-29T00:40:31.055193Z",
     "shell.execute_reply.started": "2022-04-29T00:40:31.047743Z"
    }
   },
   "outputs": [
    {
     "data": {
      "text/plain": [
       "(7662,)"
      ]
     },
     "execution_count": 12,
     "metadata": {},
     "output_type": "execute_result"
    }
   ],
   "source": [
    "y_train[0].shape"
   ]
  },
  {
   "cell_type": "code",
   "execution_count": 13,
   "metadata": {
    "execution": {
     "iopub.execute_input": "2022-04-29T00:52:35.874276Z",
     "iopub.status.busy": "2022-04-29T00:52:35.874011Z",
     "iopub.status.idle": "2022-04-29T00:52:35.879886Z",
     "shell.execute_reply": "2022-04-29T00:52:35.879075Z",
     "shell.execute_reply.started": "2022-04-29T00:52:35.874245Z"
    }
   },
   "outputs": [],
   "source": [
    "from tensorflow import keras\n",
    "ytrain=keras.utils.to_categorical(y_train[0], num_classes=None, dtype='float32')\n",
    "ytest=keras.utils.to_categorical(y_test[0], num_classes=None, dtype='float32')"
   ]
  },
  {
   "cell_type": "code",
   "execution_count": 14,
   "metadata": {
    "execution": {
     "iopub.execute_input": "2022-04-29T00:45:17.550072Z",
     "iopub.status.busy": "2022-04-29T00:45:17.549809Z",
     "iopub.status.idle": "2022-04-29T00:45:17.555992Z",
     "shell.execute_reply": "2022-04-29T00:45:17.555184Z",
     "shell.execute_reply.started": "2022-04-29T00:45:17.550038Z"
    }
   },
   "outputs": [
    {
     "data": {
      "text/plain": [
       "array([0., 1., 0., ..., 0., 0., 0.], dtype=float32)"
      ]
     },
     "execution_count": 14,
     "metadata": {},
     "output_type": "execute_result"
    }
   ],
   "source": [
    "ytrain[:,1]"
   ]
  },
  {
   "cell_type": "code",
   "execution_count": 32,
   "metadata": {},
   "outputs": [],
   "source": [
    "Sequential?"
   ]
  },
  {
   "cell_type": "markdown",
   "metadata": {
    "execution": {
     "iopub.execute_input": "2022-04-29T00:06:48.467785Z",
     "iopub.status.busy": "2022-04-29T00:06:48.467029Z",
     "iopub.status.idle": "2022-04-29T00:06:48.492409Z",
     "shell.execute_reply": "2022-04-29T00:06:48.491565Z",
     "shell.execute_reply.started": "2022-04-29T00:06:48.467745Z"
    }
   },
   "source": [
    "ignore warnings"
   ]
  },
  {
   "cell_type": "code",
   "execution_count": 33,
   "metadata": {
    "execution": {
     "iopub.execute_input": "2022-04-29T01:42:38.635503Z",
     "iopub.status.busy": "2022-04-29T01:42:38.634795Z",
     "iopub.status.idle": "2022-04-29T01:42:38.725607Z",
     "shell.execute_reply": "2022-04-29T01:42:38.724731Z",
     "shell.execute_reply.started": "2022-04-29T01:42:38.635448Z"
    }
   },
   "outputs": [
    {
     "name": "stdout",
     "output_type": "stream",
     "text": [
      "Model: \"sequential_2\"\n",
      "_________________________________________________________________\n",
      " Layer (type)                Output Shape              Param #   \n",
      "=================================================================\n",
      " dense_6 (Dense)             (None, 7662, 1024)        15360     \n",
      "                                                                 \n",
      " dense_7 (Dense)             (None, 7662, 512)         524800    \n",
      "                                                                 \n",
      " dense_8 (Dense)             (None, 7662, 100)         51300     \n",
      "                                                                 \n",
      " dense_9 (Dense)             (None, 7662, 50)          5050      \n",
      "                                                                 \n",
      " dense_10 (Dense)            (None, 7662, 1)           51        \n",
      "                                                                 \n",
      "=================================================================\n",
      "Total params: 596,561\n",
      "Trainable params: 596,561\n",
      "Non-trainable params: 0\n",
      "_________________________________________________________________\n"
     ]
    }
   ],
   "source": [
    "# Building ANN architecture\n",
    "model=Sequential()\n",
    "model.add(Dense(1024,input_shape=xtrain.shape,activation='relu'))\n",
    "model.add(Dense(512, activation ='relu'))\n",
    "model.add(Dense(100, activation ='relu'))\n",
    "model.add(Dense(50, activation ='relu'))\n",
    "model.add(Dense(1,activation='sigmoid'))\n",
    "\n",
    "model.summary()"
   ]
  },
  {
   "cell_type": "code",
   "execution_count": 25,
   "metadata": {
    "execution": {
     "iopub.execute_input": "2022-04-29T01:56:20.412981Z",
     "iopub.status.busy": "2022-04-29T01:56:20.412393Z",
     "iopub.status.idle": "2022-04-29T01:56:20.418617Z",
     "shell.execute_reply": "2022-04-29T01:56:20.417711Z",
     "shell.execute_reply.started": "2022-04-29T01:56:20.412943Z"
    }
   },
   "outputs": [
    {
     "data": {
      "text/plain": [
       "(7662, 2)"
      ]
     },
     "execution_count": 25,
     "metadata": {},
     "output_type": "execute_result"
    }
   ],
   "source": [
    "ytrain.shape"
   ]
  },
  {
   "cell_type": "code",
   "execution_count": 34,
   "metadata": {
    "execution": {
     "iopub.execute_input": "2022-04-29T01:42:38.828686Z",
     "iopub.status.busy": "2022-04-29T01:42:38.828220Z",
     "iopub.status.idle": "2022-04-29T01:42:44.510247Z",
     "shell.execute_reply": "2022-04-29T01:42:44.509446Z",
     "shell.execute_reply.started": "2022-04-29T01:42:38.828647Z"
    }
   },
   "outputs": [
    {
     "name": "stdout",
     "output_type": "stream",
     "text": [
      "Epoch 1/25\n"
     ]
    },
    {
     "ename": "ValueError",
     "evalue": "in user code:\n\n    File \"C:\\ProgramData\\Anaconda3\\lib\\site-packages\\keras\\engine\\training.py\", line 1021, in train_function  *\n        return step_function(self, iterator)\n    File \"C:\\ProgramData\\Anaconda3\\lib\\site-packages\\keras\\engine\\training.py\", line 1010, in step_function  **\n        outputs = model.distribute_strategy.run(run_step, args=(data,))\n    File \"C:\\ProgramData\\Anaconda3\\lib\\site-packages\\keras\\engine\\training.py\", line 1000, in run_step  **\n        outputs = model.train_step(data)\n    File \"C:\\ProgramData\\Anaconda3\\lib\\site-packages\\keras\\engine\\training.py\", line 859, in train_step\n        y_pred = self(x, training=True)\n    File \"C:\\ProgramData\\Anaconda3\\lib\\site-packages\\keras\\utils\\traceback_utils.py\", line 67, in error_handler\n        raise e.with_traceback(filtered_tb) from None\n    File \"C:\\ProgramData\\Anaconda3\\lib\\site-packages\\keras\\engine\\input_spec.py\", line 264, in assert_input_compatibility\n        raise ValueError(f'Input {input_index} of layer \"{layer_name}\" is '\n\n    ValueError: Input 0 of layer \"sequential_2\" is incompatible with the layer: expected shape=(None, 7662, 14), found shape=(None, 14)\n",
     "output_type": "error",
     "traceback": [
      "\u001b[1;31m---------------------------------------------------------------------------\u001b[0m",
      "\u001b[1;31mValueError\u001b[0m                                Traceback (most recent call last)",
      "\u001b[1;32m~\\AppData\\Local\\Temp/ipykernel_20496/161658049.py\u001b[0m in \u001b[0;36m<module>\u001b[1;34m\u001b[0m\n\u001b[0;32m      1\u001b[0m \u001b[0mmodel\u001b[0m\u001b[1;33m.\u001b[0m\u001b[0mcompile\u001b[0m\u001b[1;33m(\u001b[0m\u001b[0mloss\u001b[0m\u001b[1;33m=\u001b[0m\u001b[1;34m'binary_crossentropy'\u001b[0m\u001b[1;33m,\u001b[0m\u001b[0moptimizer\u001b[0m\u001b[1;33m=\u001b[0m\u001b[1;34m'adam'\u001b[0m\u001b[1;33m,\u001b[0m\u001b[0mmetrics\u001b[0m\u001b[1;33m=\u001b[0m\u001b[1;33m[\u001b[0m\u001b[1;34m'accuracy'\u001b[0m\u001b[1;33m]\u001b[0m\u001b[1;33m)\u001b[0m\u001b[1;33m\u001b[0m\u001b[1;33m\u001b[0m\u001b[0m\n\u001b[1;32m----> 2\u001b[1;33m \u001b[0mmodel\u001b[0m\u001b[1;33m.\u001b[0m\u001b[0mfit\u001b[0m\u001b[1;33m(\u001b[0m\u001b[0mxtrain\u001b[0m\u001b[1;33m,\u001b[0m\u001b[0mytrain\u001b[0m\u001b[1;33m[\u001b[0m\u001b[1;33m:\u001b[0m\u001b[1;33m,\u001b[0m\u001b[1;36m0\u001b[0m\u001b[1;33m]\u001b[0m\u001b[1;33m,\u001b[0m\u001b[0mepochs\u001b[0m\u001b[1;33m=\u001b[0m\u001b[1;36m25\u001b[0m\u001b[1;33m,\u001b[0m\u001b[0mbatch_size\u001b[0m\u001b[1;33m=\u001b[0m\u001b[1;36m154\u001b[0m\u001b[1;33m,\u001b[0m\u001b[0mverbose\u001b[0m\u001b[1;33m=\u001b[0m\u001b[1;36m1\u001b[0m\u001b[1;33m,\u001b[0m\u001b[0mvalidation_split\u001b[0m\u001b[1;33m=\u001b[0m\u001b[1;36m.2\u001b[0m\u001b[1;33m)\u001b[0m\u001b[1;33m\u001b[0m\u001b[1;33m\u001b[0m\u001b[0m\n\u001b[0m",
      "\u001b[1;32mC:\\ProgramData\\Anaconda3\\lib\\site-packages\\keras\\utils\\traceback_utils.py\u001b[0m in \u001b[0;36merror_handler\u001b[1;34m(*args, **kwargs)\u001b[0m\n\u001b[0;32m     65\u001b[0m     \u001b[1;32mexcept\u001b[0m \u001b[0mException\u001b[0m \u001b[1;32mas\u001b[0m \u001b[0me\u001b[0m\u001b[1;33m:\u001b[0m  \u001b[1;31m# pylint: disable=broad-except\u001b[0m\u001b[1;33m\u001b[0m\u001b[1;33m\u001b[0m\u001b[0m\n\u001b[0;32m     66\u001b[0m       \u001b[0mfiltered_tb\u001b[0m \u001b[1;33m=\u001b[0m \u001b[0m_process_traceback_frames\u001b[0m\u001b[1;33m(\u001b[0m\u001b[0me\u001b[0m\u001b[1;33m.\u001b[0m\u001b[0m__traceback__\u001b[0m\u001b[1;33m)\u001b[0m\u001b[1;33m\u001b[0m\u001b[1;33m\u001b[0m\u001b[0m\n\u001b[1;32m---> 67\u001b[1;33m       \u001b[1;32mraise\u001b[0m \u001b[0me\u001b[0m\u001b[1;33m.\u001b[0m\u001b[0mwith_traceback\u001b[0m\u001b[1;33m(\u001b[0m\u001b[0mfiltered_tb\u001b[0m\u001b[1;33m)\u001b[0m \u001b[1;32mfrom\u001b[0m \u001b[1;32mNone\u001b[0m\u001b[1;33m\u001b[0m\u001b[1;33m\u001b[0m\u001b[0m\n\u001b[0m\u001b[0;32m     68\u001b[0m     \u001b[1;32mfinally\u001b[0m\u001b[1;33m:\u001b[0m\u001b[1;33m\u001b[0m\u001b[1;33m\u001b[0m\u001b[0m\n\u001b[0;32m     69\u001b[0m       \u001b[1;32mdel\u001b[0m \u001b[0mfiltered_tb\u001b[0m\u001b[1;33m\u001b[0m\u001b[1;33m\u001b[0m\u001b[0m\n",
      "\u001b[1;32mC:\\ProgramData\\Anaconda3\\lib\\site-packages\\tensorflow\\python\\framework\\func_graph.py\u001b[0m in \u001b[0;36mautograph_handler\u001b[1;34m(*args, **kwargs)\u001b[0m\n\u001b[0;32m   1145\u001b[0m           \u001b[1;32mexcept\u001b[0m \u001b[0mException\u001b[0m \u001b[1;32mas\u001b[0m \u001b[0me\u001b[0m\u001b[1;33m:\u001b[0m  \u001b[1;31m# pylint:disable=broad-except\u001b[0m\u001b[1;33m\u001b[0m\u001b[1;33m\u001b[0m\u001b[0m\n\u001b[0;32m   1146\u001b[0m             \u001b[1;32mif\u001b[0m \u001b[0mhasattr\u001b[0m\u001b[1;33m(\u001b[0m\u001b[0me\u001b[0m\u001b[1;33m,\u001b[0m \u001b[1;34m\"ag_error_metadata\"\u001b[0m\u001b[1;33m)\u001b[0m\u001b[1;33m:\u001b[0m\u001b[1;33m\u001b[0m\u001b[1;33m\u001b[0m\u001b[0m\n\u001b[1;32m-> 1147\u001b[1;33m               \u001b[1;32mraise\u001b[0m \u001b[0me\u001b[0m\u001b[1;33m.\u001b[0m\u001b[0mag_error_metadata\u001b[0m\u001b[1;33m.\u001b[0m\u001b[0mto_exception\u001b[0m\u001b[1;33m(\u001b[0m\u001b[0me\u001b[0m\u001b[1;33m)\u001b[0m\u001b[1;33m\u001b[0m\u001b[1;33m\u001b[0m\u001b[0m\n\u001b[0m\u001b[0;32m   1148\u001b[0m             \u001b[1;32melse\u001b[0m\u001b[1;33m:\u001b[0m\u001b[1;33m\u001b[0m\u001b[1;33m\u001b[0m\u001b[0m\n\u001b[0;32m   1149\u001b[0m               \u001b[1;32mraise\u001b[0m\u001b[1;33m\u001b[0m\u001b[1;33m\u001b[0m\u001b[0m\n",
      "\u001b[1;31mValueError\u001b[0m: in user code:\n\n    File \"C:\\ProgramData\\Anaconda3\\lib\\site-packages\\keras\\engine\\training.py\", line 1021, in train_function  *\n        return step_function(self, iterator)\n    File \"C:\\ProgramData\\Anaconda3\\lib\\site-packages\\keras\\engine\\training.py\", line 1010, in step_function  **\n        outputs = model.distribute_strategy.run(run_step, args=(data,))\n    File \"C:\\ProgramData\\Anaconda3\\lib\\site-packages\\keras\\engine\\training.py\", line 1000, in run_step  **\n        outputs = model.train_step(data)\n    File \"C:\\ProgramData\\Anaconda3\\lib\\site-packages\\keras\\engine\\training.py\", line 859, in train_step\n        y_pred = self(x, training=True)\n    File \"C:\\ProgramData\\Anaconda3\\lib\\site-packages\\keras\\utils\\traceback_utils.py\", line 67, in error_handler\n        raise e.with_traceback(filtered_tb) from None\n    File \"C:\\ProgramData\\Anaconda3\\lib\\site-packages\\keras\\engine\\input_spec.py\", line 264, in assert_input_compatibility\n        raise ValueError(f'Input {input_index} of layer \"{layer_name}\" is '\n\n    ValueError: Input 0 of layer \"sequential_2\" is incompatible with the layer: expected shape=(None, 7662, 14), found shape=(None, 14)\n"
     ]
    }
   ],
   "source": [
    "model.compile(loss='binary_crossentropy',optimizer='adam',metrics=['accuracy'])\n",
    "model.fit(xtrain,ytrain[:,0],epochs=25,batch_size=154,verbose=1,validation_split=.2)"
   ]
  },
  {
   "cell_type": "code",
   "execution_count": 19,
   "metadata": {
    "execution": {
     "iopub.execute_input": "2022-04-29T01:42:44.512296Z",
     "iopub.status.busy": "2022-04-29T01:42:44.512021Z",
     "iopub.status.idle": "2022-04-29T01:42:44.518164Z",
     "shell.execute_reply": "2022-04-29T01:42:44.517112Z",
     "shell.execute_reply.started": "2022-04-29T01:42:44.512260Z"
    }
   },
   "outputs": [
    {
     "data": {
      "text/plain": [
       "(1916, 2)"
      ]
     },
     "execution_count": 19,
     "metadata": {},
     "output_type": "execute_result"
    }
   ],
   "source": [
    "y_test.shape"
   ]
  },
  {
   "cell_type": "code",
   "execution_count": 216,
   "metadata": {
    "execution": {
     "iopub.execute_input": "2022-04-29T01:43:07.066706Z",
     "iopub.status.busy": "2022-04-29T01:43:07.066404Z",
     "iopub.status.idle": "2022-04-29T01:43:07.263889Z",
     "shell.execute_reply": "2022-04-29T01:43:07.263059Z",
     "shell.execute_reply.started": "2022-04-29T01:43:07.066675Z"
    }
   },
   "outputs": [],
   "source": [
    "loss, acc = model.evaluate(xtest, ytest[:,0], verbose=0)\n",
    "print('Accuracy: %.3f'  % acc)\n",
    "print('Loss: %.3f' % loss)"
   ]
  },
  {
   "cell_type": "code",
   "execution_count": 212,
   "metadata": {
    "execution": {
     "iopub.execute_input": "2022-04-29T01:42:44.759287Z",
     "iopub.status.busy": "2022-04-29T01:42:44.759015Z",
     "iopub.status.idle": "2022-04-29T01:42:44.897355Z",
     "shell.execute_reply": "2022-04-29T01:42:44.896650Z",
     "shell.execute_reply.started": "2022-04-29T01:42:44.759248Z"
    }
   },
   "outputs": [],
   "source": [
    "pred=model.predict(xtest).astype('int');pred"
   ]
  },
  {
   "cell_type": "code",
   "execution_count": 217,
   "metadata": {
    "execution": {
     "iopub.execute_input": "2022-04-29T01:43:22.835252Z",
     "iopub.status.busy": "2022-04-29T01:43:22.834989Z",
     "iopub.status.idle": "2022-04-29T01:43:22.842528Z",
     "shell.execute_reply": "2022-04-29T01:43:22.841600Z",
     "shell.execute_reply.started": "2022-04-29T01:43:22.835223Z"
    }
   },
   "outputs": [],
   "source": [
    "print(\"actual value of output:\", ytest[:,0])\n",
    "print(\"predicted values of output:\",pred.astype('int').ravel())"
   ]
  },
  {
   "cell_type": "code",
   "execution_count": 274,
   "metadata": {
    "execution": {
     "iopub.execute_input": "2022-04-29T02:01:14.901396Z",
     "iopub.status.busy": "2022-04-29T02:01:14.901117Z",
     "iopub.status.idle": "2022-04-29T02:01:14.908468Z",
     "shell.execute_reply": "2022-04-29T02:01:14.907543Z",
     "shell.execute_reply.started": "2022-04-29T02:01:14.901365Z"
    }
   },
   "outputs": [],
   "source": [
    "# checking for rare sample i.e output as 0\n",
    "print('sample value of ouput:' ,ytest[13,0:1])\n",
    "print(\"predicted values of output:\", pred[13,:].astype('int'))"
   ]
  },
  {
   "cell_type": "code",
   "execution_count": 260,
   "metadata": {
    "execution": {
     "iopub.execute_input": "2022-04-29T01:53:59.307464Z",
     "iopub.status.busy": "2022-04-29T01:53:59.306924Z",
     "iopub.status.idle": "2022-04-29T01:53:59.316666Z",
     "shell.execute_reply": "2022-04-29T01:53:59.312373Z",
     "shell.execute_reply.started": "2022-04-29T01:53:59.307424Z"
    }
   },
   "outputs": [],
   "source": [
    "# checking for rare sample i.e output as 0\n",
    "print('sample value of ouput:' ,ytest[7,0:1])\n",
    "print(\"predicted values of output:\", pred[7,:].astype('int'))"
   ]
  },
  {
   "cell_type": "markdown",
   "metadata": {},
   "source": [
    "> Whenever we are getting 1 as output it means its not a defaulter for such cases.We also checked if model predicts defaulter loan with sample as above..So we conclude our estimation"
   ]
  },
  {
   "cell_type": "markdown",
   "metadata": {},
   "source": []
  }
 ],
 "metadata": {
  "kernelspec": {
   "display_name": "Python 3 (ipykernel)",
   "language": "python",
   "name": "python3"
  },
  "language_info": {
   "codemirror_mode": {
    "name": "ipython",
    "version": 3
   },
   "file_extension": ".py",
   "mimetype": "text/x-python",
   "name": "python",
   "nbconvert_exporter": "python",
   "pygments_lexer": "ipython3",
   "version": "3.9.7"
  }
 },
 "nbformat": 4,
 "nbformat_minor": 4
}
