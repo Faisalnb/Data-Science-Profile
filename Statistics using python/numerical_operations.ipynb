{
 "cells": [
  {
   "cell_type": "code",
   "execution_count": 1,
   "id": "8484c10b",
   "metadata": {},
   "outputs": [],
   "source": [
    "import numpy as np"
   ]
  },
  {
   "cell_type": "code",
   "execution_count": 12,
   "id": "f0456c46",
   "metadata": {},
   "outputs": [],
   "source": [
    "a=np.array([10,12,16,20])\n",
    "b=np.array([1,1.2,1.5,2])"
   ]
  },
  {
   "cell_type": "code",
   "execution_count": 20,
   "id": "799a4e82",
   "metadata": {},
   "outputs": [
    {
     "data": {
      "text/plain": [
       "array([10.        , 10.        , 10.66666667, 10.        ])"
      ]
     },
     "execution_count": 20,
     "metadata": {},
     "output_type": "execute_result"
    }
   ],
   "source": [
    "c=a/b;c"
   ]
  },
  {
   "cell_type": "code",
   "execution_count": 21,
   "id": "1c928e27",
   "metadata": {},
   "outputs": [
    {
     "data": {
      "text/plain": [
       "array([100.        , 100.        , 113.77777778, 100.        ])"
      ]
     },
     "execution_count": 21,
     "metadata": {},
     "output_type": "execute_result"
    }
   ],
   "source": [
    "c**2"
   ]
  },
  {
   "cell_type": "code",
   "execution_count": 22,
   "id": "5fabce49",
   "metadata": {
    "scrolled": true
   },
   "outputs": [
    {
     "data": {
      "text/plain": [
       "'[10.         10.         10.66666667 10.        ]'"
      ]
     },
     "execution_count": 22,
     "metadata": {},
     "output_type": "execute_result"
    }
   ],
   "source": [
    "str(c)"
   ]
  },
  {
   "cell_type": "code",
   "execution_count": 27,
   "id": "dd4c495e",
   "metadata": {},
   "outputs": [],
   "source": [
    "S=np.array([[10,10,10,10],[20,30,40,50]])\n",
    "Y=np.array([[1,1,1,1],[2,3,4,5]])"
   ]
  },
  {
   "cell_type": "code",
   "execution_count": 57,
   "id": "11a5836e",
   "metadata": {},
   "outputs": [
    {
     "data": {
      "text/plain": [
       "array([[10, 10, 10, 10],\n",
       "       [20, 30, 40, 50]])"
      ]
     },
     "execution_count": 57,
     "metadata": {},
     "output_type": "execute_result"
    }
   ],
   "source": [
    "S"
   ]
  },
  {
   "cell_type": "code",
   "execution_count": 65,
   "id": "a2640855",
   "metadata": {},
   "outputs": [
    {
     "data": {
      "text/plain": [
       "array([[10, 10],\n",
       "       [30, 40]])"
      ]
     },
     "execution_count": 65,
     "metadata": {},
     "output_type": "execute_result"
    }
   ],
   "source": [
    "S[0:,1:3]"
   ]
  },
  {
   "cell_type": "code",
   "execution_count": 52,
   "id": "fe47c3a2",
   "metadata": {},
   "outputs": [
    {
     "data": {
      "text/plain": [
       "array([ 1.        ,  4.12310563,  8.        , 10.        ])"
      ]
     },
     "execution_count": 52,
     "metadata": {},
     "output_type": "execute_result"
    }
   ],
   "source": [
    "a=np.sqrt([1,17,64,100]);a"
   ]
  },
  {
   "cell_type": "code",
   "execution_count": 54,
   "id": "49c10de4",
   "metadata": {},
   "outputs": [
    {
     "data": {
      "text/plain": [
       "array([ 1.,  4.,  8., 10.])"
      ]
     },
     "execution_count": 54,
     "metadata": {},
     "output_type": "execute_result"
    }
   ],
   "source": [
    "np.floor(a)"
   ]
  },
  {
   "cell_type": "code",
   "execution_count": 1,
   "id": "58711d1e",
   "metadata": {},
   "outputs": [],
   "source": [
    "import numpy as np\n",
    "new_trials=np.array([[10,15,17,19,21,25,27],[2,3,5,7,9,11,13]])"
   ]
  },
  {
   "cell_type": "code",
   "execution_count": 89,
   "id": "48f11ccc",
   "metadata": {},
   "outputs": [
    {
     "data": {
      "text/plain": [
       "array([10, 15, 17, 19, 21, 25, 27,  2,  3,  5,  7,  9, 11, 13])"
      ]
     },
     "execution_count": 89,
     "metadata": {},
     "output_type": "execute_result"
    }
   ],
   "source": [
    "new_trials.ravel()"
   ]
  },
  {
   "cell_type": "code",
   "execution_count": 90,
   "id": "f85db994",
   "metadata": {},
   "outputs": [
    {
     "ename": "ValueError",
     "evalue": "cannot resize an array that references or is referenced\nby another array in this way.\nUse the np.resize function or refcheck=False",
     "output_type": "error",
     "traceback": [
      "\u001b[1;31m---------------------------------------------------------------------------\u001b[0m",
      "\u001b[1;31mValueError\u001b[0m                                Traceback (most recent call last)",
      "\u001b[1;32m~\\AppData\\Local\\Temp/ipykernel_6968/3284143489.py\u001b[0m in \u001b[0;36m<module>\u001b[1;34m\u001b[0m\n\u001b[1;32m----> 1\u001b[1;33m \u001b[0mnew_trials\u001b[0m\u001b[1;33m.\u001b[0m\u001b[0mresize\u001b[0m\u001b[1;33m(\u001b[0m\u001b[1;36m3\u001b[0m\u001b[1;33m,\u001b[0m\u001b[1;36m4\u001b[0m\u001b[1;33m)\u001b[0m\u001b[1;33m\u001b[0m\u001b[1;33m\u001b[0m\u001b[0m\n\u001b[0m",
      "\u001b[1;31mValueError\u001b[0m: cannot resize an array that references or is referenced\nby another array in this way.\nUse the np.resize function or refcheck=False"
     ]
    }
   ],
   "source": [
    "new_trials.resize(3,4)"
   ]
  },
  {
   "cell_type": "code",
   "execution_count": 104,
   "id": "2c8af6ae",
   "metadata": {},
   "outputs": [
    {
     "data": {
      "text/plain": [
       "[array([[10, 15, 17, 19, 21, 25, 27],\n",
       "        [ 2,  3,  5,  7,  9, 11, 13]])]"
      ]
     },
     "execution_count": 104,
     "metadata": {},
     "output_type": "execute_result"
    }
   ],
   "source": [
    "np.hsplit(new_trials,1)"
   ]
  },
  {
   "cell_type": "code",
   "execution_count": 2,
   "id": "ff28588d",
   "metadata": {},
   "outputs": [
    {
     "data": {
      "text/plain": [
       "array([20, 30, 40])"
      ]
     },
     "execution_count": 2,
     "metadata": {},
     "output_type": "execute_result"
    }
   ],
   "source": [
    "a1=np.array([2,3,4])\n",
    "b1=np.array([20,30,40])\n",
    "a1*10"
   ]
  },
  {
   "cell_type": "code",
   "execution_count": 123,
   "id": "3dd55b6f",
   "metadata": {},
   "outputs": [
    {
     "data": {
      "text/plain": [
       "array([[10, 20],\n",
       "       [15, 25]])"
      ]
     },
     "execution_count": 123,
     "metadata": {},
     "output_type": "execute_result"
    }
   ],
   "source": [
    "inv_array=np.array([[10,20],[15,25]]);inv_array"
   ]
  },
  {
   "cell_type": "code",
   "execution_count": 124,
   "id": "86100906",
   "metadata": {},
   "outputs": [
    {
     "data": {
      "text/plain": [
       "array([[-0.5,  0.4],\n",
       "       [ 0.3, -0.2]])"
      ]
     },
     "execution_count": 124,
     "metadata": {},
     "output_type": "execute_result"
    }
   ],
   "source": [
    "np.linalg.inv(inv_array)"
   ]
  },
  {
   "cell_type": "code",
   "execution_count": 125,
   "id": "d14157df",
   "metadata": {},
   "outputs": [
    {
     "data": {
      "text/plain": [
       "35"
      ]
     },
     "execution_count": 125,
     "metadata": {},
     "output_type": "execute_result"
    }
   ],
   "source": [
    "np.trace(inv_array)"
   ]
  },
  {
   "cell_type": "code",
   "execution_count": 131,
   "id": "24be6bf4",
   "metadata": {},
   "outputs": [
    {
     "data": {
      "text/plain": [
       "290"
      ]
     },
     "execution_count": 131,
     "metadata": {},
     "output_type": "execute_result"
    }
   ],
   "source": [
    "np.dot(a1,b1)"
   ]
  },
  {
   "cell_type": "code",
   "execution_count": 3,
   "id": "b57ade57",
   "metadata": {},
   "outputs": [
    {
     "data": {
      "text/plain": [
       "matrix([[2, 3, 4]])"
      ]
     },
     "execution_count": 3,
     "metadata": {},
     "output_type": "execute_result"
    }
   ],
   "source": [
    "(np.matrix(a1))"
   ]
  },
  {
   "cell_type": "code",
   "execution_count": null,
   "id": "b31fba72",
   "metadata": {},
   "outputs": [],
   "source": []
  }
 ],
 "metadata": {
  "kernelspec": {
   "display_name": "Python 3 (ipykernel)",
   "language": "python",
   "name": "python3"
  },
  "language_info": {
   "codemirror_mode": {
    "name": "ipython",
    "version": 3
   },
   "file_extension": ".py",
   "mimetype": "text/x-python",
   "name": "python",
   "nbconvert_exporter": "python",
   "pygments_lexer": "ipython3",
   "version": "3.9.7"
  }
 },
 "nbformat": 4,
 "nbformat_minor": 5
}
