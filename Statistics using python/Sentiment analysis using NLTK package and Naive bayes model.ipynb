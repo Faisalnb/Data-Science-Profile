{
 "cells": [
  {
   "cell_type": "markdown",
   "id": "c22f7574",
   "metadata": {},
   "source": [
    "<h2>Analyze the Sentiment dataset using NLP to:<h2>\n",
    "<h3>\n",
    "<ol><li>View the observations</li>\n",
    "<li>Verify the length of the messages and add it as a new column</li>\n",
    "<li>Apply a transformer and fit the data in the bag of words</li>\n",
    "<li>Print the shape for the transformer</li>\n",
    "<li>Check the model for predicted and expected values.</li><ol>\n",
    "    <h3>"
   ]
  },
  {
   "cell_type": "code",
   "execution_count": 49,
   "id": "9728ff24",
   "metadata": {},
   "outputs": [
    {
     "name": "stderr",
     "output_type": "stream",
     "text": [
      "[nltk_data] Downloading package stopwords to\n",
      "[nltk_data]     C:\\Users\\FB\\AppData\\Roaming\\nltk_data...\n",
      "[nltk_data]   Unzipping corpora\\stopwords.zip.\n"
     ]
    },
    {
     "data": {
      "text/plain": [
       "True"
      ]
     },
     "execution_count": 49,
     "metadata": {},
     "output_type": "execute_result"
    }
   ],
   "source": [
    "import pandas as pd\n",
    "from nltk.corpus import stopwords\n",
    "nltk.download('stopwords')"
   ]
  },
  {
   "cell_type": "code",
   "execution_count": 17,
   "id": "65e8d43a",
   "metadata": {},
   "outputs": [
    {
     "data": {
      "text/html": [
       "<style type=\"text/css\">\n",
       "table.dataframe td, table.dataframe th {\n",
       "    border: 1px  black solid !important;\n",
       "  color: black !important;\n",
       "}\n"
      ],
      "text/plain": [
       "<IPython.core.display.HTML object>"
      ]
     },
     "metadata": {},
     "output_type": "display_data"
    }
   ],
   "source": [
    "%%HTML\n",
    "<style type=\"text/css\">\n",
    "table.dataframe td, table.dataframe th {\n",
    "    border: 1px  black solid !important;\n",
    "  color: black !important;\n",
    "}"
   ]
  },
  {
   "cell_type": "code",
   "execution_count": 34,
   "id": "7db9199a",
   "metadata": {},
   "outputs": [],
   "source": [
    "sentiment_df= pd.read_csv('G:\\\\My Drive\\\\Local_PC\\\\Document_wordNLP\\\\imdb_labelled.txt',sep='\\t',names=['comments','labels'])"
   ]
  },
  {
   "cell_type": "code",
   "execution_count": 35,
   "id": "e17c2d56",
   "metadata": {},
   "outputs": [
    {
     "data": {
      "text/html": [
       "<div>\n",
       "<style scoped>\n",
       "    .dataframe tbody tr th:only-of-type {\n",
       "        vertical-align: middle;\n",
       "    }\n",
       "\n",
       "    .dataframe tbody tr th {\n",
       "        vertical-align: top;\n",
       "    }\n",
       "\n",
       "    .dataframe thead th {\n",
       "        text-align: right;\n",
       "    }\n",
       "</style>\n",
       "<table border=\"1\" class=\"dataframe\">\n",
       "  <thead>\n",
       "    <tr style=\"text-align: right;\">\n",
       "      <th></th>\n",
       "      <th>comments</th>\n",
       "      <th>labels</th>\n",
       "    </tr>\n",
       "  </thead>\n",
       "  <tbody>\n",
       "    <tr>\n",
       "      <th>0</th>\n",
       "      <td>A very, very, very slow-moving, aimless movie ...</td>\n",
       "      <td>0</td>\n",
       "    </tr>\n",
       "    <tr>\n",
       "      <th>1</th>\n",
       "      <td>Not sure who was more lost - the flat characte...</td>\n",
       "      <td>0</td>\n",
       "    </tr>\n",
       "    <tr>\n",
       "      <th>2</th>\n",
       "      <td>Attempting artiness with black &amp; white and cle...</td>\n",
       "      <td>0</td>\n",
       "    </tr>\n",
       "    <tr>\n",
       "      <th>3</th>\n",
       "      <td>Very little music or anything to speak of.</td>\n",
       "      <td>0</td>\n",
       "    </tr>\n",
       "    <tr>\n",
       "      <th>4</th>\n",
       "      <td>The best scene in the movie was when Gerardo i...</td>\n",
       "      <td>1</td>\n",
       "    </tr>\n",
       "    <tr>\n",
       "      <th>...</th>\n",
       "      <td>...</td>\n",
       "      <td>...</td>\n",
       "    </tr>\n",
       "    <tr>\n",
       "      <th>743</th>\n",
       "      <td>I just got bored watching Jessice Lange take h...</td>\n",
       "      <td>0</td>\n",
       "    </tr>\n",
       "    <tr>\n",
       "      <th>744</th>\n",
       "      <td>Unfortunately, any virtue in this film's produ...</td>\n",
       "      <td>0</td>\n",
       "    </tr>\n",
       "    <tr>\n",
       "      <th>745</th>\n",
       "      <td>In a word, it is embarrassing.</td>\n",
       "      <td>0</td>\n",
       "    </tr>\n",
       "    <tr>\n",
       "      <th>746</th>\n",
       "      <td>Exceptionally bad!</td>\n",
       "      <td>0</td>\n",
       "    </tr>\n",
       "    <tr>\n",
       "      <th>747</th>\n",
       "      <td>All in all its an insult to one's intelligence...</td>\n",
       "      <td>0</td>\n",
       "    </tr>\n",
       "  </tbody>\n",
       "</table>\n",
       "<p>748 rows × 2 columns</p>\n",
       "</div>"
      ],
      "text/plain": [
       "                                              comments  labels\n",
       "0    A very, very, very slow-moving, aimless movie ...       0\n",
       "1    Not sure who was more lost - the flat characte...       0\n",
       "2    Attempting artiness with black & white and cle...       0\n",
       "3         Very little music or anything to speak of.         0\n",
       "4    The best scene in the movie was when Gerardo i...       1\n",
       "..                                                 ...     ...\n",
       "743  I just got bored watching Jessice Lange take h...       0\n",
       "744  Unfortunately, any virtue in this film's produ...       0\n",
       "745                   In a word, it is embarrassing.         0\n",
       "746                               Exceptionally bad!         0\n",
       "747  All in all its an insult to one's intelligence...       0\n",
       "\n",
       "[748 rows x 2 columns]"
      ]
     },
     "execution_count": 35,
     "metadata": {},
     "output_type": "execute_result"
    }
   ],
   "source": [
    "sentiment_df"
   ]
  },
  {
   "cell_type": "code",
   "execution_count": 24,
   "id": "55ca92e1",
   "metadata": {},
   "outputs": [
    {
     "name": "stdout",
     "output_type": "stream",
     "text": [
      "<class 'pandas.core.frame.DataFrame'>\n",
      "RangeIndex: 748 entries, 0 to 747\n",
      "Data columns (total 2 columns):\n",
      " #   Column   Non-Null Count  Dtype \n",
      "---  ------   --------------  ----- \n",
      " 0   columns  748 non-null    object\n",
      " 1   labels   748 non-null    int64 \n",
      "dtypes: int64(1), object(1)\n",
      "memory usage: 11.8+ KB\n"
     ]
    }
   ],
   "source": [
    "sentiment_df.info()"
   ]
  },
  {
   "cell_type": "code",
   "execution_count": 36,
   "id": "7d149468",
   "metadata": {},
   "outputs": [
    {
     "data": {
      "text/html": [
       "<div>\n",
       "<style scoped>\n",
       "    .dataframe tbody tr th:only-of-type {\n",
       "        vertical-align: middle;\n",
       "    }\n",
       "\n",
       "    .dataframe tbody tr th {\n",
       "        vertical-align: top;\n",
       "    }\n",
       "\n",
       "    .dataframe thead tr th {\n",
       "        text-align: left;\n",
       "    }\n",
       "\n",
       "    .dataframe thead tr:last-of-type th {\n",
       "        text-align: right;\n",
       "    }\n",
       "</style>\n",
       "<table border=\"1\" class=\"dataframe\">\n",
       "  <thead>\n",
       "    <tr>\n",
       "      <th></th>\n",
       "      <th colspan=\"4\" halign=\"left\">comments</th>\n",
       "    </tr>\n",
       "    <tr>\n",
       "      <th></th>\n",
       "      <th>count</th>\n",
       "      <th>unique</th>\n",
       "      <th>top</th>\n",
       "      <th>freq</th>\n",
       "    </tr>\n",
       "    <tr>\n",
       "      <th>labels</th>\n",
       "      <th></th>\n",
       "      <th></th>\n",
       "      <th></th>\n",
       "      <th></th>\n",
       "    </tr>\n",
       "  </thead>\n",
       "  <tbody>\n",
       "    <tr>\n",
       "      <th>0</th>\n",
       "      <td>362</td>\n",
       "      <td>361</td>\n",
       "      <td>Not recommended.</td>\n",
       "      <td>2</td>\n",
       "    </tr>\n",
       "    <tr>\n",
       "      <th>1</th>\n",
       "      <td>386</td>\n",
       "      <td>384</td>\n",
       "      <td>10/10</td>\n",
       "      <td>2</td>\n",
       "    </tr>\n",
       "  </tbody>\n",
       "</table>\n",
       "</div>"
      ],
      "text/plain": [
       "       comments                                \n",
       "          count unique                 top freq\n",
       "labels                                         \n",
       "0           362    361  Not recommended.      2\n",
       "1           386    384             10/10      2"
      ]
     },
     "execution_count": 36,
     "metadata": {},
     "output_type": "execute_result"
    }
   ],
   "source": [
    "sentiment_df.groupby('labels').describe()"
   ]
  },
  {
   "cell_type": "markdown",
   "id": "dafa81ed",
   "metadata": {},
   "source": [
    "# View messages Length"
   ]
  },
  {
   "cell_type": "code",
   "execution_count": 38,
   "id": "75c99e4d",
   "metadata": {},
   "outputs": [],
   "source": [
    "sentiment_df['length']=sentiment_df['comments'].apply(len)"
   ]
  },
  {
   "cell_type": "code",
   "execution_count": 39,
   "id": "e091d8e7",
   "metadata": {},
   "outputs": [
    {
     "data": {
      "text/html": [
       "<div>\n",
       "<style scoped>\n",
       "    .dataframe tbody tr th:only-of-type {\n",
       "        vertical-align: middle;\n",
       "    }\n",
       "\n",
       "    .dataframe tbody tr th {\n",
       "        vertical-align: top;\n",
       "    }\n",
       "\n",
       "    .dataframe thead th {\n",
       "        text-align: right;\n",
       "    }\n",
       "</style>\n",
       "<table border=\"1\" class=\"dataframe\">\n",
       "  <thead>\n",
       "    <tr style=\"text-align: right;\">\n",
       "      <th></th>\n",
       "      <th>comments</th>\n",
       "      <th>labels</th>\n",
       "      <th>length</th>\n",
       "    </tr>\n",
       "  </thead>\n",
       "  <tbody>\n",
       "    <tr>\n",
       "      <th>0</th>\n",
       "      <td>A very, very, very slow-moving, aimless movie ...</td>\n",
       "      <td>0</td>\n",
       "      <td>87</td>\n",
       "    </tr>\n",
       "    <tr>\n",
       "      <th>1</th>\n",
       "      <td>Not sure who was more lost - the flat characte...</td>\n",
       "      <td>0</td>\n",
       "      <td>99</td>\n",
       "    </tr>\n",
       "    <tr>\n",
       "      <th>2</th>\n",
       "      <td>Attempting artiness with black &amp; white and cle...</td>\n",
       "      <td>0</td>\n",
       "      <td>188</td>\n",
       "    </tr>\n",
       "    <tr>\n",
       "      <th>3</th>\n",
       "      <td>Very little music or anything to speak of.</td>\n",
       "      <td>0</td>\n",
       "      <td>44</td>\n",
       "    </tr>\n",
       "    <tr>\n",
       "      <th>4</th>\n",
       "      <td>The best scene in the movie was when Gerardo i...</td>\n",
       "      <td>1</td>\n",
       "      <td>108</td>\n",
       "    </tr>\n",
       "    <tr>\n",
       "      <th>...</th>\n",
       "      <td>...</td>\n",
       "      <td>...</td>\n",
       "      <td>...</td>\n",
       "    </tr>\n",
       "    <tr>\n",
       "      <th>743</th>\n",
       "      <td>I just got bored watching Jessice Lange take h...</td>\n",
       "      <td>0</td>\n",
       "      <td>63</td>\n",
       "    </tr>\n",
       "    <tr>\n",
       "      <th>744</th>\n",
       "      <td>Unfortunately, any virtue in this film's produ...</td>\n",
       "      <td>0</td>\n",
       "      <td>92</td>\n",
       "    </tr>\n",
       "    <tr>\n",
       "      <th>745</th>\n",
       "      <td>In a word, it is embarrassing.</td>\n",
       "      <td>0</td>\n",
       "      <td>32</td>\n",
       "    </tr>\n",
       "    <tr>\n",
       "      <th>746</th>\n",
       "      <td>Exceptionally bad!</td>\n",
       "      <td>0</td>\n",
       "      <td>20</td>\n",
       "    </tr>\n",
       "    <tr>\n",
       "      <th>747</th>\n",
       "      <td>All in all its an insult to one's intelligence...</td>\n",
       "      <td>0</td>\n",
       "      <td>75</td>\n",
       "    </tr>\n",
       "  </tbody>\n",
       "</table>\n",
       "<p>748 rows × 3 columns</p>\n",
       "</div>"
      ],
      "text/plain": [
       "                                              comments  labels  length\n",
       "0    A very, very, very slow-moving, aimless movie ...       0      87\n",
       "1    Not sure who was more lost - the flat characte...       0      99\n",
       "2    Attempting artiness with black & white and cle...       0     188\n",
       "3         Very little music or anything to speak of.         0      44\n",
       "4    The best scene in the movie was when Gerardo i...       1     108\n",
       "..                                                 ...     ...     ...\n",
       "743  I just got bored watching Jessice Lange take h...       0      63\n",
       "744  Unfortunately, any virtue in this film's produ...       0      92\n",
       "745                   In a word, it is embarrassing.         0      32\n",
       "746                               Exceptionally bad!         0      20\n",
       "747  All in all its an insult to one's intelligence...       0      75\n",
       "\n",
       "[748 rows x 3 columns]"
      ]
     },
     "execution_count": 39,
     "metadata": {},
     "output_type": "execute_result"
    }
   ],
   "source": [
    "sentiment_df"
   ]
  },
  {
   "cell_type": "markdown",
   "id": "381e7034",
   "metadata": {},
   "source": [
    "# Fit the data"
   ]
  },
  {
   "cell_type": "code",
   "execution_count": 42,
   "id": "8fc75932",
   "metadata": {},
   "outputs": [],
   "source": [
    "from sklearn.feature_extraction.text import CountVectorizer"
   ]
  },
  {
   "cell_type": "code",
   "execution_count": 44,
   "id": "5ae93840",
   "metadata": {},
   "outputs": [],
   "source": [
    "# removing punctuation and stop words\n",
    "def fun(message):\n",
    "    no_punctuation=[char for char in message if char not in string.punctuation ]\n",
    "    no_punctuation=''.join (no_punctuation)\n",
    "    return[word for word in no_punctuation.split()  if word.lower() not in stopwords.words('english')]"
   ]
  },
  {
   "cell_type": "code",
   "execution_count": 57,
   "id": "066a065d",
   "metadata": {},
   "outputs": [],
   "source": [
    "# import bag of words for vector conversion\n",
    "import string\n",
    "bag_of_words=CountVectorizer(analyzer=fun).fit(sentiment_df['comments'])"
   ]
  },
  {
   "cell_type": "code",
   "execution_count": 60,
   "id": "a8eb212e",
   "metadata": {},
   "outputs": [],
   "source": [
    "bag_of_words_mod=bag_of_words.transform(sentiment_df['comments'])"
   ]
  },
  {
   "cell_type": "code",
   "execution_count": 75,
   "id": "b95acba4",
   "metadata": {},
   "outputs": [],
   "source": [
    "# tf idf class of transformer\n",
    "from sklearn.feature_extraction.text import TfidfTransformer\n",
    "tfidf_xr= TfidfTransformer().fit(bag_of_words_mod)"
   ]
  },
  {
   "cell_type": "code",
   "execution_count": 76,
   "id": "cd652d04",
   "metadata": {},
   "outputs": [],
   "source": [
    "comment_tfidf=tfidf_xr.transform(bag_of_words_mod)"
   ]
  },
  {
   "cell_type": "code",
   "execution_count": 78,
   "id": "6ce56213",
   "metadata": {},
   "outputs": [
    {
     "name": "stdout",
     "output_type": "stream",
     "text": [
      "  (0, 3250)\t0.3816637284563236\n",
      "  (0, 2723)\t0.4241108183752289\n",
      "  (0, 2153)\t0.16990858097983952\n",
      "  (0, 2066)\t0.3255517277463126\n",
      "  (0, 1377)\t0.4241108183752289\n",
      "  (0, 1350)\t0.4241108183752289\n",
      "  (0, 808)\t0.4241108183752289\n",
      "  (1, 3143)\t0.38182983407543575\n",
      "  (1, 2862)\t0.3649826770903546\n",
      "  (1, 2183)\t0.40557456821911814\n",
      "  (1, 2037)\t0.3519150069113966\n",
      "  (1, 1741)\t0.3322106139919209\n",
      "  (1, 1608)\t0.38182983407543575\n",
      "  (1, 1068)\t0.24506626208613558\n",
      "  (1, 889)\t0.3412379429466722\n",
      "  (2, 3188)\t0.22572572993058948\n",
      "  (2, 2545)\t0.24260734282176902\n",
      "  (2, 2368)\t0.23618925147009165\n",
      "  (2, 2353)\t0.18318909601134087\n",
      "  (2, 2206)\t0.2883482635666443\n",
      "  (2, 2153)\t0.11551896855237308\n",
      "  (2, 2013)\t0.23062964785925286\n",
      "  (2, 1468)\t0.17700960233455035\n",
      "  (2, 1334)\t0.23618925147009165\n",
      "  (2, 1111)\t0.25019833371584044\n",
      "  :\t:\n",
      "  (743, 3164)\t0.29410031767318934\n",
      "  (743, 2883)\t0.35284500604788344\n",
      "  (743, 1712)\t0.3372134677881701\n",
      "  (743, 1119)\t0.43076577011360223\n",
      "  (743, 982)\t0.37377328571751295\n",
      "  (743, 421)\t0.40554619400837655\n",
      "  (743, 389)\t0.43076577011360223\n",
      "  (744, 3215)\t0.2915007634862201\n",
      "  (744, 3125)\t0.421858631684885\n",
      "  (744, 2610)\t0.2847256754401927\n",
      "  (744, 2495)\t0.421858631684885\n",
      "  (744, 2413)\t0.3660446066352257\n",
      "  (744, 2037)\t0.3660446066352257\n",
      "  (744, 1587)\t0.27579561678492714\n",
      "  (744, 702)\t0.3660446066352257\n",
      "  (745, 3212)\t0.7071067811865476\n",
      "  (745, 1418)\t0.7071067811865476\n",
      "  (746, 911)\t0.47387840560516153\n",
      "  (746, 254)\t0.8805902887842393\n",
      "  (747, 3158)\t0.34846129157697814\n",
      "  (747, 2247)\t0.44956595692446444\n",
      "  (747, 2135)\t0.4017731163705988\n",
      "  (747, 1895)\t0.4143442777887941\n",
      "  (747, 1891)\t0.4143442777887941\n",
      "  (747, 1822)\t0.4143442777887941\n"
     ]
    }
   ],
   "source": [
    "print(comment_tfidf)"
   ]
  },
  {
   "cell_type": "code",
   "execution_count": 88,
   "id": "c8d626a0",
   "metadata": {},
   "outputs": [],
   "source": [
    "# Chosing naive bayes model for sentiment analysis\n",
    "from sklearn.naive_bayes import MultinomialNB"
   ]
  },
  {
   "cell_type": "code",
   "execution_count": 84,
   "id": "82810b58",
   "metadata": {},
   "outputs": [],
   "source": [
    "sentiment_model=MultinomialNB().fit(comment_tfidf,sentiment_df['labels'])"
   ]
  },
  {
   "cell_type": "code",
   "execution_count": 120,
   "id": "6cc8b67a",
   "metadata": {},
   "outputs": [],
   "source": [
    "# chosing a random sample for comparision on model data\n",
    "comment=sentiment_df['comments'][0]\n",
    "bag_of_words_sample=bag_of_words.transform([comment])\n",
    "tfidf_sample=tfidf_xr.transform(bag_of_words_sample)"
   ]
  },
  {
   "cell_type": "code",
   "execution_count": 121,
   "id": "6c365f23",
   "metadata": {},
   "outputs": [
    {
     "name": "stdout",
     "output_type": "stream",
     "text": [
      "The value for sentiment on obs 1= 0\n",
      "The value for sentiment prediction on obs 1= 0\n"
     ]
    }
   ],
   "source": [
    "print ('The value for sentiment on obs 1=', sentiment_df.loc[0,'labels'])\n",
    "print ('The value for sentiment prediction on obs 1=',sentiment_model.predict(tfidf_sample)[0])"
   ]
  }
 ],
 "metadata": {
  "kernelspec": {
   "display_name": "Python 3 (ipykernel)",
   "language": "python",
   "name": "python3"
  },
  "language_info": {
   "codemirror_mode": {
    "name": "ipython",
    "version": 3
   },
   "file_extension": ".py",
   "mimetype": "text/x-python",
   "name": "python",
   "nbconvert_exporter": "python",
   "pygments_lexer": "ipython3",
   "version": "3.9.7"
  }
 },
 "nbformat": 4,
 "nbformat_minor": 5
}
