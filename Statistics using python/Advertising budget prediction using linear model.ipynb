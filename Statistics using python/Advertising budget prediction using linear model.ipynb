{
 "cells": [
  {
   "cell_type": "markdown",
   "id": "dd2f8481",
   "metadata": {},
   "source": [
    "<h1>The given dataset contains ad budgets for different media channels and the corresponding ad sales of XYZ firm. Evaluate the dataset to:<h1>\n",
    "<h3>\n",
    "<ol><li>Find the features or media channels used by the firm</li>\n",
    "<li>Find the sales figures for each channel</li>\n",
    "<li>Create a model  to predict the sales outcome</li>\n",
    "<li>Split as training and testing datasets for the model</li>\n",
    "<li>Calculate the Mean Square Error (MSE)</li><ol>\n",
    "    <h3>"
   ]
  },
  {
   "cell_type": "code",
   "execution_count": 1,
   "id": "b3fca592",
   "metadata": {},
   "outputs": [],
   "source": [
    "import pandas as pd\n",
    "import numpy as np\n",
    "import seaborn as sns\n",
    "import matplotlib.pyplot as plt\n",
    "%matplotlib inline\n",
    "from sklearn.linear_model import LinearRegression\n"
   ]
  },
  {
   "cell_type": "code",
   "execution_count": 4,
   "id": "6aca6af6",
   "metadata": {},
   "outputs": [],
   "source": [
    "media_df=pd.read_csv('G:\\\\My Drive\\\\Assignments\\\\Media Chanel\\\\Advertising Budget and Sales.csv',index_col=0)"
   ]
  },
  {
   "cell_type": "code",
   "execution_count": 5,
   "id": "1beb4831",
   "metadata": {},
   "outputs": [
    {
     "data": {
      "text/html": [
       "<div>\n",
       "<style scoped>\n",
       "    .dataframe tbody tr th:only-of-type {\n",
       "        vertical-align: middle;\n",
       "    }\n",
       "\n",
       "    .dataframe tbody tr th {\n",
       "        vertical-align: top;\n",
       "    }\n",
       "\n",
       "    .dataframe thead th {\n",
       "        text-align: right;\n",
       "    }\n",
       "</style>\n",
       "<table border=\"1\" class=\"dataframe\">\n",
       "  <thead>\n",
       "    <tr style=\"text-align: right;\">\n",
       "      <th></th>\n",
       "      <th>TV Ad Budget ($)</th>\n",
       "      <th>Radio Ad Budget ($)</th>\n",
       "      <th>Newspaper Ad Budget ($)</th>\n",
       "      <th>Sales ($)</th>\n",
       "    </tr>\n",
       "  </thead>\n",
       "  <tbody>\n",
       "    <tr>\n",
       "      <th>1</th>\n",
       "      <td>230.1</td>\n",
       "      <td>37.8</td>\n",
       "      <td>69.2</td>\n",
       "      <td>22.1</td>\n",
       "    </tr>\n",
       "    <tr>\n",
       "      <th>2</th>\n",
       "      <td>44.5</td>\n",
       "      <td>39.3</td>\n",
       "      <td>45.1</td>\n",
       "      <td>10.4</td>\n",
       "    </tr>\n",
       "    <tr>\n",
       "      <th>3</th>\n",
       "      <td>17.2</td>\n",
       "      <td>45.9</td>\n",
       "      <td>69.3</td>\n",
       "      <td>9.3</td>\n",
       "    </tr>\n",
       "    <tr>\n",
       "      <th>4</th>\n",
       "      <td>151.5</td>\n",
       "      <td>41.3</td>\n",
       "      <td>58.5</td>\n",
       "      <td>18.5</td>\n",
       "    </tr>\n",
       "    <tr>\n",
       "      <th>5</th>\n",
       "      <td>180.8</td>\n",
       "      <td>10.8</td>\n",
       "      <td>58.4</td>\n",
       "      <td>12.9</td>\n",
       "    </tr>\n",
       "    <tr>\n",
       "      <th>...</th>\n",
       "      <td>...</td>\n",
       "      <td>...</td>\n",
       "      <td>...</td>\n",
       "      <td>...</td>\n",
       "    </tr>\n",
       "    <tr>\n",
       "      <th>196</th>\n",
       "      <td>38.2</td>\n",
       "      <td>3.7</td>\n",
       "      <td>13.8</td>\n",
       "      <td>7.6</td>\n",
       "    </tr>\n",
       "    <tr>\n",
       "      <th>197</th>\n",
       "      <td>94.2</td>\n",
       "      <td>4.9</td>\n",
       "      <td>8.1</td>\n",
       "      <td>9.7</td>\n",
       "    </tr>\n",
       "    <tr>\n",
       "      <th>198</th>\n",
       "      <td>177.0</td>\n",
       "      <td>9.3</td>\n",
       "      <td>6.4</td>\n",
       "      <td>12.8</td>\n",
       "    </tr>\n",
       "    <tr>\n",
       "      <th>199</th>\n",
       "      <td>283.6</td>\n",
       "      <td>42.0</td>\n",
       "      <td>66.2</td>\n",
       "      <td>25.5</td>\n",
       "    </tr>\n",
       "    <tr>\n",
       "      <th>200</th>\n",
       "      <td>232.1</td>\n",
       "      <td>8.6</td>\n",
       "      <td>8.7</td>\n",
       "      <td>13.4</td>\n",
       "    </tr>\n",
       "  </tbody>\n",
       "</table>\n",
       "<p>200 rows × 4 columns</p>\n",
       "</div>"
      ],
      "text/plain": [
       "     TV Ad Budget ($)  Radio Ad Budget ($)  Newspaper Ad Budget ($)  Sales ($)\n",
       "1               230.1                 37.8                     69.2       22.1\n",
       "2                44.5                 39.3                     45.1       10.4\n",
       "3                17.2                 45.9                     69.3        9.3\n",
       "4               151.5                 41.3                     58.5       18.5\n",
       "5               180.8                 10.8                     58.4       12.9\n",
       "..                ...                  ...                      ...        ...\n",
       "196              38.2                  3.7                     13.8        7.6\n",
       "197              94.2                  4.9                      8.1        9.7\n",
       "198             177.0                  9.3                      6.4       12.8\n",
       "199             283.6                 42.0                     66.2       25.5\n",
       "200             232.1                  8.6                      8.7       13.4\n",
       "\n",
       "[200 rows x 4 columns]"
      ]
     },
     "execution_count": 5,
     "metadata": {},
     "output_type": "execute_result"
    }
   ],
   "source": [
    "media_df"
   ]
  },
  {
   "cell_type": "code",
   "execution_count": 7,
   "id": "83b5b2b5",
   "metadata": {},
   "outputs": [
    {
     "data": {
      "text/plain": [
       "Index(['TV Ad Budget ($)', 'Radio Ad Budget ($)', 'Newspaper Ad Budget ($)',\n",
       "       'Sales ($)'],\n",
       "      dtype='object')"
      ]
     },
     "execution_count": 7,
     "metadata": {},
     "output_type": "execute_result"
    }
   ],
   "source": [
    "media_df.columns"
   ]
  },
  {
   "cell_type": "markdown",
   "id": "127a222c",
   "metadata": {},
   "source": [
    "# splitting data into features and target"
   ]
  },
  {
   "cell_type": "code",
   "execution_count": 12,
   "id": "7719dee9",
   "metadata": {},
   "outputs": [],
   "source": [
    "X_features=media_df[['TV Ad Budget ($)', 'Radio Ad Budget ($)', 'Newspaper Ad Budget ($)']]\n",
    "Y_target=media_df[[\"Sales ($)\"]]"
   ]
  },
  {
   "cell_type": "code",
   "execution_count": 13,
   "id": "f385683f",
   "metadata": {},
   "outputs": [
    {
     "data": {
      "text/html": [
       "<div>\n",
       "<style scoped>\n",
       "    .dataframe tbody tr th:only-of-type {\n",
       "        vertical-align: middle;\n",
       "    }\n",
       "\n",
       "    .dataframe tbody tr th {\n",
       "        vertical-align: top;\n",
       "    }\n",
       "\n",
       "    .dataframe thead th {\n",
       "        text-align: right;\n",
       "    }\n",
       "</style>\n",
       "<table border=\"1\" class=\"dataframe\">\n",
       "  <thead>\n",
       "    <tr style=\"text-align: right;\">\n",
       "      <th></th>\n",
       "      <th>TV Ad Budget ($)</th>\n",
       "      <th>Radio Ad Budget ($)</th>\n",
       "      <th>Newspaper Ad Budget ($)</th>\n",
       "    </tr>\n",
       "  </thead>\n",
       "  <tbody>\n",
       "    <tr>\n",
       "      <th>1</th>\n",
       "      <td>230.1</td>\n",
       "      <td>37.8</td>\n",
       "      <td>69.2</td>\n",
       "    </tr>\n",
       "    <tr>\n",
       "      <th>2</th>\n",
       "      <td>44.5</td>\n",
       "      <td>39.3</td>\n",
       "      <td>45.1</td>\n",
       "    </tr>\n",
       "    <tr>\n",
       "      <th>3</th>\n",
       "      <td>17.2</td>\n",
       "      <td>45.9</td>\n",
       "      <td>69.3</td>\n",
       "    </tr>\n",
       "    <tr>\n",
       "      <th>4</th>\n",
       "      <td>151.5</td>\n",
       "      <td>41.3</td>\n",
       "      <td>58.5</td>\n",
       "    </tr>\n",
       "    <tr>\n",
       "      <th>5</th>\n",
       "      <td>180.8</td>\n",
       "      <td>10.8</td>\n",
       "      <td>58.4</td>\n",
       "    </tr>\n",
       "    <tr>\n",
       "      <th>...</th>\n",
       "      <td>...</td>\n",
       "      <td>...</td>\n",
       "      <td>...</td>\n",
       "    </tr>\n",
       "    <tr>\n",
       "      <th>196</th>\n",
       "      <td>38.2</td>\n",
       "      <td>3.7</td>\n",
       "      <td>13.8</td>\n",
       "    </tr>\n",
       "    <tr>\n",
       "      <th>197</th>\n",
       "      <td>94.2</td>\n",
       "      <td>4.9</td>\n",
       "      <td>8.1</td>\n",
       "    </tr>\n",
       "    <tr>\n",
       "      <th>198</th>\n",
       "      <td>177.0</td>\n",
       "      <td>9.3</td>\n",
       "      <td>6.4</td>\n",
       "    </tr>\n",
       "    <tr>\n",
       "      <th>199</th>\n",
       "      <td>283.6</td>\n",
       "      <td>42.0</td>\n",
       "      <td>66.2</td>\n",
       "    </tr>\n",
       "    <tr>\n",
       "      <th>200</th>\n",
       "      <td>232.1</td>\n",
       "      <td>8.6</td>\n",
       "      <td>8.7</td>\n",
       "    </tr>\n",
       "  </tbody>\n",
       "</table>\n",
       "<p>200 rows × 3 columns</p>\n",
       "</div>"
      ],
      "text/plain": [
       "     TV Ad Budget ($)  Radio Ad Budget ($)  Newspaper Ad Budget ($)\n",
       "1               230.1                 37.8                     69.2\n",
       "2                44.5                 39.3                     45.1\n",
       "3                17.2                 45.9                     69.3\n",
       "4               151.5                 41.3                     58.5\n",
       "5               180.8                 10.8                     58.4\n",
       "..                ...                  ...                      ...\n",
       "196              38.2                  3.7                     13.8\n",
       "197              94.2                  4.9                      8.1\n",
       "198             177.0                  9.3                      6.4\n",
       "199             283.6                 42.0                     66.2\n",
       "200             232.1                  8.6                      8.7\n",
       "\n",
       "[200 rows x 3 columns]"
      ]
     },
     "execution_count": 13,
     "metadata": {},
     "output_type": "execute_result"
    }
   ],
   "source": [
    "X_features"
   ]
  },
  {
   "cell_type": "code",
   "execution_count": 14,
   "id": "15f6ddb2",
   "metadata": {},
   "outputs": [
    {
     "data": {
      "text/html": [
       "<div>\n",
       "<style scoped>\n",
       "    .dataframe tbody tr th:only-of-type {\n",
       "        vertical-align: middle;\n",
       "    }\n",
       "\n",
       "    .dataframe tbody tr th {\n",
       "        vertical-align: top;\n",
       "    }\n",
       "\n",
       "    .dataframe thead th {\n",
       "        text-align: right;\n",
       "    }\n",
       "</style>\n",
       "<table border=\"1\" class=\"dataframe\">\n",
       "  <thead>\n",
       "    <tr style=\"text-align: right;\">\n",
       "      <th></th>\n",
       "      <th>Sales ($)</th>\n",
       "    </tr>\n",
       "  </thead>\n",
       "  <tbody>\n",
       "    <tr>\n",
       "      <th>1</th>\n",
       "      <td>22.1</td>\n",
       "    </tr>\n",
       "    <tr>\n",
       "      <th>2</th>\n",
       "      <td>10.4</td>\n",
       "    </tr>\n",
       "    <tr>\n",
       "      <th>3</th>\n",
       "      <td>9.3</td>\n",
       "    </tr>\n",
       "    <tr>\n",
       "      <th>4</th>\n",
       "      <td>18.5</td>\n",
       "    </tr>\n",
       "    <tr>\n",
       "      <th>5</th>\n",
       "      <td>12.9</td>\n",
       "    </tr>\n",
       "    <tr>\n",
       "      <th>...</th>\n",
       "      <td>...</td>\n",
       "    </tr>\n",
       "    <tr>\n",
       "      <th>196</th>\n",
       "      <td>7.6</td>\n",
       "    </tr>\n",
       "    <tr>\n",
       "      <th>197</th>\n",
       "      <td>9.7</td>\n",
       "    </tr>\n",
       "    <tr>\n",
       "      <th>198</th>\n",
       "      <td>12.8</td>\n",
       "    </tr>\n",
       "    <tr>\n",
       "      <th>199</th>\n",
       "      <td>25.5</td>\n",
       "    </tr>\n",
       "    <tr>\n",
       "      <th>200</th>\n",
       "      <td>13.4</td>\n",
       "    </tr>\n",
       "  </tbody>\n",
       "</table>\n",
       "<p>200 rows × 1 columns</p>\n",
       "</div>"
      ],
      "text/plain": [
       "     Sales ($)\n",
       "1         22.1\n",
       "2         10.4\n",
       "3          9.3\n",
       "4         18.5\n",
       "5         12.9\n",
       "..         ...\n",
       "196        7.6\n",
       "197        9.7\n",
       "198       12.8\n",
       "199       25.5\n",
       "200       13.4\n",
       "\n",
       "[200 rows x 1 columns]"
      ]
     },
     "execution_count": 14,
     "metadata": {},
     "output_type": "execute_result"
    }
   ],
   "source": [
    "Y_target"
   ]
  },
  {
   "cell_type": "markdown",
   "id": "e260c94e",
   "metadata": {},
   "source": [
    "# Split data in to train and test "
   ]
  },
  {
   "cell_type": "code",
   "execution_count": null,
   "id": "96a90159",
   "metadata": {},
   "outputs": [],
   "source": [
    "from sklearn.model_selection import train_test_split"
   ]
  },
  {
   "cell_type": "code",
   "execution_count": 27,
   "id": "8dd7767f",
   "metadata": {},
   "outputs": [],
   "source": [
    "X_train,X_test,Y_train,Y_test=train_test_split(X_features,Y_target,test_size=0.25)"
   ]
  },
  {
   "cell_type": "code",
   "execution_count": 31,
   "id": "146114ce",
   "metadata": {},
   "outputs": [
    {
     "data": {
      "text/plain": [
       "(150, 3)"
      ]
     },
     "execution_count": 31,
     "metadata": {},
     "output_type": "execute_result"
    }
   ],
   "source": [
    "X_train.shape"
   ]
  },
  {
   "cell_type": "code",
   "execution_count": 32,
   "id": "bd424d52",
   "metadata": {},
   "outputs": [
    {
     "data": {
      "text/plain": [
       "(50, 3)"
      ]
     },
     "execution_count": 32,
     "metadata": {},
     "output_type": "execute_result"
    }
   ],
   "source": [
    "X_test.shape"
   ]
  },
  {
   "cell_type": "markdown",
   "id": "720fec84",
   "metadata": {},
   "source": [
    "# Fit data into linear model and get predictions"
   ]
  },
  {
   "cell_type": "code",
   "execution_count": 33,
   "id": "9d10f3fc",
   "metadata": {},
   "outputs": [],
   "source": [
    "linereg=LinearRegression()"
   ]
  },
  {
   "cell_type": "code",
   "execution_count": 34,
   "id": "0db82373",
   "metadata": {},
   "outputs": [
    {
     "data": {
      "text/plain": [
       "LinearRegression()"
      ]
     },
     "execution_count": 34,
     "metadata": {},
     "output_type": "execute_result"
    }
   ],
   "source": [
    "linereg.fit(X_features,Y_target)"
   ]
  },
  {
   "cell_type": "code",
   "execution_count": 35,
   "id": "c33f04f3",
   "metadata": {},
   "outputs": [
    {
     "data": {
      "text/plain": [
       "0.8972106381789522"
      ]
     },
     "execution_count": 35,
     "metadata": {},
     "output_type": "execute_result"
    }
   ],
   "source": [
    "linereg.score(X_features,Y_target)"
   ]
  },
  {
   "cell_type": "code",
   "execution_count": null,
   "id": "e24b8d44",
   "metadata": {},
   "outputs": [],
   "source": [
    "#Y_target~0.8972106381789522*X_features"
   ]
  },
  {
   "cell_type": "code",
   "execution_count": 38,
   "id": "0dad3c94",
   "metadata": {},
   "outputs": [
    {
     "name": "stdout",
     "output_type": "stream",
     "text": [
      "[[ 0.04576465  0.18853002 -0.00103749]]\n"
     ]
    }
   ],
   "source": [
    "print(linereg.coef_)"
   ]
  },
  {
   "cell_type": "code",
   "execution_count": 39,
   "id": "3c0f4fc1",
   "metadata": {},
   "outputs": [
    {
     "name": "stdout",
     "output_type": "stream",
     "text": [
      "[2.93888937]\n"
     ]
    }
   ],
   "source": [
    "print(linereg.intercept_)"
   ]
  },
  {
   "cell_type": "code",
   "execution_count": 41,
   "id": "43da2b1c",
   "metadata": {},
   "outputs": [],
   "source": [
    "Y_predict=linereg.predict(X_test)"
   ]
  },
  {
   "cell_type": "code",
   "execution_count": 43,
   "id": "4937a05a",
   "metadata": {},
   "outputs": [
    {
     "data": {
      "text/plain": [
       "array([20.80301059, 23.24248685, 15.16152314, 23.76732149,  9.12734958,\n",
       "       17.9415563 , 13.18867186, 10.38419866, 16.01099722, 11.45348627,\n",
       "       10.48212385, 18.48695797,  8.42401933,  9.99922965, 10.62693815,\n",
       "       12.12295317, 18.86426829, 19.15639616, 21.59580326,  9.90298206,\n",
       "       16.5459329 ,  7.88410649,  6.5707774 , 11.71127101, 10.36684881,\n",
       "       13.81190223, 14.98951429, 12.1620464 , 17.05167344,  9.90868103,\n",
       "       21.7226299 ,  8.16531236, 23.26086103, 18.10076728,  5.37034248,\n",
       "       11.44592364, 17.07644223,  9.67530328, 22.89067208, 14.94678206,\n",
       "       17.32931197, 12.30767078, 13.21069202,  8.44915012, 12.55084872,\n",
       "        7.0322992 , 18.36720534,  9.76842795, 14.41010605,  3.72734086])"
      ]
     },
     "execution_count": 43,
     "metadata": {},
     "output_type": "execute_result"
    }
   ],
   "source": [
    "Y_predict.ravel()"
   ]
  },
  {
   "cell_type": "markdown",
   "id": "155fd509",
   "metadata": {},
   "source": [
    "# Calculate the metrics related to error"
   ]
  },
  {
   "cell_type": "code",
   "execution_count": 82,
   "id": "f3405f4a",
   "metadata": {},
   "outputs": [],
   "source": [
    "mean_squared_error=np.mean((Y_predict-np.array(Y_test))**2)"
   ]
  },
  {
   "cell_type": "code",
   "execution_count": 83,
   "id": "0e52abae",
   "metadata": {},
   "outputs": [
    {
     "data": {
      "text/plain": [
       "2.5964760288864506"
      ]
     },
     "execution_count": 83,
     "metadata": {},
     "output_type": "execute_result"
    }
   ],
   "source": [
    "mean_squared_error"
   ]
  },
  {
   "cell_type": "code",
   "execution_count": 89,
   "id": "c278fdaf",
   "metadata": {},
   "outputs": [
    {
     "name": "stdout",
     "output_type": "stream",
     "text": [
      "True [[22.6]\n",
      " [23.8]\n",
      " [14.9]\n",
      " [25.5]\n",
      " [10.6]\n",
      " [15. ]\n",
      " [12.9]\n",
      " [ 7.3]\n",
      " [11.8]\n",
      " [ 9.5]]\n"
     ]
    }
   ],
   "source": [
    "print ('True',Y_test.values[0:10])"
   ]
  },
  {
   "cell_type": "code",
   "execution_count": 91,
   "id": "02082648",
   "metadata": {},
   "outputs": [
    {
     "name": "stdout",
     "output_type": "stream",
     "text": [
      "Predicted [[20.80301059]\n",
      " [23.24248685]\n",
      " [15.16152314]\n",
      " [23.76732149]\n",
      " [ 9.12734958]\n",
      " [17.9415563 ]\n",
      " [13.18867186]\n",
      " [10.38419866]\n",
      " [16.01099722]\n",
      " [11.45348627]]\n"
     ]
    }
   ],
   "source": [
    "print ('Predicted',Y_predict[0:10])"
   ]
  }
 ],
 "metadata": {
  "kernelspec": {
   "display_name": "Python 3 (ipykernel)",
   "language": "python",
   "name": "python3"
  },
  "language_info": {
   "codemirror_mode": {
    "name": "ipython",
    "version": 3
   },
   "file_extension": ".py",
   "mimetype": "text/x-python",
   "name": "python",
   "nbconvert_exporter": "python",
   "pygments_lexer": "ipython3",
   "version": "3.9.7"
  }
 },
 "nbformat": 4,
 "nbformat_minor": 5
}
