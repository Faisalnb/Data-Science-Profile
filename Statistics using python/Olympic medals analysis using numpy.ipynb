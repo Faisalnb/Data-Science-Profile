{
 "cells": [
  {
   "cell_type": "markdown",
   "id": "b133e934",
   "metadata": {},
   "source": [
    "<h2>Evaluate the dataset of the Summer Olympics,London 2012 to:<h2>\n",
    "<h4><ol>\n",
    "<li>Find and print the name of the country that won maximum gold medals</li>\n",
    "<li>Find and print the countries who won more than 20 gold medals</li>\n",
    "<li>Print the medal tally</li>\n",
    "<li>Print each country name with the corresponding number of gold medals</li> and\n",
    "<li>Print each country's name with the total number of medals won</li></ol><h4>"
   ]
  },
  {
   "cell_type": "code",
   "execution_count": 1,
   "id": "64882cce",
   "metadata": {},
   "outputs": [],
   "source": [
    "import numpy as np"
   ]
  },
  {
   "cell_type": "code",
   "execution_count": 2,
   "id": "26dc9e0d",
   "metadata": {},
   "outputs": [],
   "source": [
    "import pandas as pd"
   ]
  },
  {
   "cell_type": "code",
   "execution_count": 9,
   "id": "7eb83bce",
   "metadata": {},
   "outputs": [],
   "source": [
    "df=pd.read_excel('D:\\\\Data science with Python\\\\Assignments\\\\Lesson 5 - 2\\\\Olympic 2012 Medal Tally\\\\Olympic 2012 Medal Tally.xlsx')"
   ]
  },
  {
   "cell_type": "code",
   "execution_count": 10,
   "id": "003ed785",
   "metadata": {},
   "outputs": [
    {
     "data": {
      "text/plain": [
       "array([[nan, 'Country', 'Country Code', 'Year', 'Medal Tally', nan, nan],\n",
       "       [nan, nan, nan, nan, 'Gold', 'Silver', 'Bronze'],\n",
       "       [nan, 'Great Britain', 'GBR', 2012, 29, 17, 19],\n",
       "       [nan, 'China ', 'CHN', 2012, 38, 28, 22],\n",
       "       [nan, 'Russia', 'RUS', 2012, 24, 25, 32],\n",
       "       [nan, 'United States', 'US', 2012, 46, 28, 29],\n",
       "       [nan, 'Korea', 'KOR', 2012, 13, 8, 7],\n",
       "       [nan, 'Japan', 'JPN', 2012, 7, 14, 17],\n",
       "       [nan, 'Germany', 'GER', 2012, 11, 11, 14]], dtype=object)"
      ]
     },
     "execution_count": 10,
     "metadata": {},
     "output_type": "execute_result"
    }
   ],
   "source": [
    "olympic_data=np.array(df);olympic_data"
   ]
  },
  {
   "cell_type": "code",
   "execution_count": 15,
   "id": "3c48189a",
   "metadata": {},
   "outputs": [
    {
     "data": {
      "text/plain": [
       "array([['Great Britain', 'GBR', 2012, 29, 17, 19],\n",
       "       ['China ', 'CHN', 2012, 38, 28, 22],\n",
       "       ['Russia', 'RUS', 2012, 24, 25, 32],\n",
       "       ['United States', 'US', 2012, 46, 28, 29],\n",
       "       ['Korea', 'KOR', 2012, 13, 8, 7],\n",
       "       ['Japan', 'JPN', 2012, 7, 14, 17],\n",
       "       ['Germany', 'GER', 2012, 11, 11, 14]], dtype=object)"
      ]
     },
     "execution_count": 15,
     "metadata": {},
     "output_type": "execute_result"
    }
   ],
   "source": [
    "olympic_data1=olympic_data[2:9,1:7];olympic_data1"
   ]
  },
  {
   "cell_type": "code",
   "execution_count": 24,
   "id": "aaf863c5",
   "metadata": {},
   "outputs": [
    {
     "data": {
      "text/plain": [
       "array(['Great Britain', 'China ', 'Russia', 'United States', 'Korea',\n",
       "       'Japan', 'Germany'], dtype=object)"
      ]
     },
     "execution_count": 24,
     "metadata": {},
     "output_type": "execute_result"
    }
   ],
   "source": [
    "countries=olympic_data1[:,0:1];countries1=countries.ravel();countries1"
   ]
  },
  {
   "cell_type": "code",
   "execution_count": 46,
   "id": "e3d4f2bd",
   "metadata": {},
   "outputs": [],
   "source": [
    "gold=olympic_data1[:,3:4];gold1=gold.ravel()"
   ]
  },
  {
   "cell_type": "code",
   "execution_count": 28,
   "id": "b01daa3e",
   "metadata": {},
   "outputs": [],
   "source": [
    "silver=olympic_data1[:,4:5];silver1=silver.ravel()"
   ]
  },
  {
   "cell_type": "code",
   "execution_count": 29,
   "id": "36a82e2d",
   "metadata": {},
   "outputs": [],
   "source": [
    "bronze=olympic_data1[:,5:6];bronze1=bronze.ravel()"
   ]
  },
  {
   "cell_type": "code",
   "execution_count": null,
   "id": "297fd07c",
   "metadata": {},
   "outputs": [],
   "source": [
    "# print the name of the country that won maximum gold medals"
   ]
  },
  {
   "cell_type": "code",
   "execution_count": 47,
   "id": "a32214a1",
   "metadata": {},
   "outputs": [
    {
     "data": {
      "text/plain": [
       "3"
      ]
     },
     "execution_count": 47,
     "metadata": {},
     "output_type": "execute_result"
    }
   ],
   "source": [
    "index_max_gold=gold1.argmax();index_max_gold"
   ]
  },
  {
   "cell_type": "code",
   "execution_count": 49,
   "id": "5de9088b",
   "metadata": {},
   "outputs": [
    {
     "data": {
      "text/plain": [
       "'United States'"
      ]
     },
     "execution_count": 49,
     "metadata": {},
     "output_type": "execute_result"
    }
   ],
   "source": [
    "country_with_max_gold=countries1[3];country_with_max_gold"
   ]
  },
  {
   "cell_type": "code",
   "execution_count": null,
   "id": "f5ad9352",
   "metadata": {},
   "outputs": [],
   "source": [
    "# print the countries who won more than 20 gold medals"
   ]
  },
  {
   "cell_type": "code",
   "execution_count": 52,
   "id": "ee40f459",
   "metadata": {},
   "outputs": [
    {
     "data": {
      "text/plain": [
       "array([ True,  True,  True,  True, False, False, False])"
      ]
     },
     "execution_count": 52,
     "metadata": {},
     "output_type": "execute_result"
    }
   ],
   "source": [
    "medaltally_exceeding20=gold1>20;medaltally_exceeding20"
   ]
  },
  {
   "cell_type": "code",
   "execution_count": 53,
   "id": "6a62eeed",
   "metadata": {},
   "outputs": [
    {
     "data": {
      "text/plain": [
       "array(['Great Britain', 'China ', 'Russia'], dtype=object)"
      ]
     },
     "execution_count": 53,
     "metadata": {},
     "output_type": "execute_result"
    }
   ],
   "source": [
    "country_with_morethan20_gold=countries1[0:3];country_with_morethan20_gold"
   ]
  },
  {
   "cell_type": "code",
   "execution_count": 61,
   "id": "3e1da11d",
   "metadata": {},
   "outputs": [
    {
     "name": "stdout",
     "output_type": "stream",
     "text": [
      "countries with more than 20 gold medals are: ['Great Britain' 'China ' 'Russia']\n"
     ]
    }
   ],
   "source": [
    "print ('countries with more than 20 gold medals are:',country_with_morethan20_gold[:])"
   ]
  },
  {
   "cell_type": "code",
   "execution_count": null,
   "id": "f068fc3f",
   "metadata": {},
   "outputs": [],
   "source": [
    "#Print the medal tally"
   ]
  },
  {
   "cell_type": "code",
   "execution_count": 80,
   "id": "6f8006ad",
   "metadata": {},
   "outputs": [],
   "source": [
    "medal_tally=np.vstack((countries1,gold1,silver1,bronze1))"
   ]
  },
  {
   "cell_type": "code",
   "execution_count": 81,
   "id": "44dee48b",
   "metadata": {},
   "outputs": [],
   "source": [
    "medal_tally1=medal_tally.transpose()"
   ]
  },
  {
   "cell_type": "code",
   "execution_count": 82,
   "id": "dda7e4a3",
   "metadata": {},
   "outputs": [
    {
     "data": {
      "text/plain": [
       "array([['Great Britain', 29, 17, 19],\n",
       "       ['China ', 38, 28, 22],\n",
       "       ['Russia', 24, 25, 32],\n",
       "       ['United States', 46, 28, 29],\n",
       "       ['Korea', 13, 8, 7],\n",
       "       ['Japan', 7, 14, 17],\n",
       "       ['Germany', 11, 11, 14]], dtype=object)"
      ]
     },
     "execution_count": 82,
     "metadata": {},
     "output_type": "execute_result"
    }
   ],
   "source": [
    "medal_tally1"
   ]
  },
  {
   "cell_type": "code",
   "execution_count": null,
   "id": "e8a0b27c",
   "metadata": {},
   "outputs": [],
   "source": [
    "#Print each country name with the corresponding number of gold medals"
   ]
  },
  {
   "cell_type": "code",
   "execution_count": 83,
   "id": "7e01611a",
   "metadata": {},
   "outputs": [
    {
     "name": "stdout",
     "output_type": "stream",
     "text": [
      "Great Britain has won 29 golds\n",
      "China  has won 38 golds\n",
      "Russia has won 24 golds\n",
      "United States has won 46 golds\n",
      "Korea has won 13 golds\n",
      "Japan has won 7 golds\n",
      "Germany has won 11 golds\n"
     ]
    }
   ],
   "source": [
    "for i in range(len(countries1)):\n",
    "    country=countries1[i]\n",
    "    gold=gold1[i]\n",
    "    print(country,'has won',gold,'golds')"
   ]
  },
  {
   "cell_type": "code",
   "execution_count": null,
   "id": "2580ada0",
   "metadata": {},
   "outputs": [],
   "source": [
    "#Print each country's name with the total number of medals won"
   ]
  },
  {
   "cell_type": "code",
   "execution_count": 84,
   "id": "5ac035a2",
   "metadata": {},
   "outputs": [
    {
     "name": "stdout",
     "output_type": "stream",
     "text": [
      "Great Britain has won 65 medals\n",
      "China  has won 88 medals\n",
      "Russia has won 81 medals\n",
      "United States has won 103 medals\n",
      "Korea has won 28 medals\n",
      "Japan has won 38 medals\n",
      "Germany has won 36 medals\n"
     ]
    }
   ],
   "source": [
    "for i in range(len(countries1)):\n",
    "    country=countries1[i]\n",
    "    medals=gold1[i]+silver1[i]+bronze1[i]\n",
    "    print(country,'has won',medals,'medals')"
   ]
  }
 ],
 "metadata": {
  "kernelspec": {
   "display_name": "Python 3 (ipykernel)",
   "language": "python",
   "name": "python3"
  },
  "language_info": {
   "codemirror_mode": {
    "name": "ipython",
    "version": 3
   },
   "file_extension": ".py",
   "mimetype": "text/x-python",
   "name": "python",
   "nbconvert_exporter": "python",
   "pygments_lexer": "ipython3",
   "version": "3.9.7"
  }
 },
 "nbformat": 4,
 "nbformat_minor": 5
}
